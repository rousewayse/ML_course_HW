{
 "cells": [
  {
   "cell_type": "code",
   "execution_count": 1,
   "id": "5972db1c",
   "metadata": {},
   "outputs": [],
   "source": [
    "import numpy as np \n",
    "import pandas as pd\n",
    "import matplotlib.pyplot as plt\n",
    "%matplotlib inline\n",
    "import seaborn as sns\n",
    "\n",
    "# устанавливаем точность чисел с плавающей точкой\n",
    "%precision %.4f\n",
    "\n",
    "import warnings\n",
    "warnings.filterwarnings('ignore')  # отключаем предупреждения"
   ]
  },
  {
   "cell_type": "markdown",
   "id": "a0b0fc3c",
   "metadata": {},
   "source": [
    "Считаем данные\n"
   ]
  },
  {
   "cell_type": "code",
   "execution_count": 2,
   "id": "35b2cb1f",
   "metadata": {
    "scrolled": true
   },
   "outputs": [
    {
     "data": {
      "text/plain": [
       "car_ID              0\n",
       "symboling           0\n",
       "CarName             0\n",
       "fueltype            0\n",
       "aspiration          0\n",
       "doornumber          0\n",
       "carbody             0\n",
       "drivewheel          0\n",
       "enginelocation      0\n",
       "wheelbase           0\n",
       "carlength           0\n",
       "carwidth            0\n",
       "carheight           0\n",
       "curbweight          0\n",
       "enginetype          0\n",
       "cylindernumber      0\n",
       "enginesize          0\n",
       "fuelsystem          0\n",
       "boreratio           0\n",
       "stroke              0\n",
       "compressionratio    0\n",
       "horsepower          0\n",
       "peakrpm             0\n",
       "citympg             0\n",
       "highwaympg          0\n",
       "price               0\n",
       "dtype: int64"
      ]
     },
     "execution_count": 2,
     "metadata": {},
     "output_type": "execute_result"
    }
   ],
   "source": [
    "df = pd.read_csv('car_price.csv')\n",
    "\n",
    "\n",
    "df.isnull().sum()\n"
   ]
  },
  {
   "cell_type": "markdown",
   "id": "09caf3d0",
   "metadata": {},
   "source": [
    "В датасете нет пропущенных значений."
   ]
  },
  {
   "cell_type": "markdown",
   "id": "2d7b4e2e",
   "metadata": {},
   "source": [
    "Стоимость машины не зависит от конкретного названия, но может зависить от марки, поэтому оставим только марки машин"
   ]
  },
  {
   "cell_type": "code",
   "execution_count": 3,
   "id": "0b37069a",
   "metadata": {
    "scrolled": false
   },
   "outputs": [],
   "source": [
    "df[\"manufacturer\"] = \"\"\n",
    "df[\"manufacturer\"] = [x.split(\" \")[0] for x in df[\"CarName\"]] \n",
    "df.drop(\"CarName\", axis=1, inplace=True)"
   ]
  },
  {
   "cell_type": "markdown",
   "id": "a9c45d49",
   "metadata": {},
   "source": [
    "car_ID - это правда индекс? Посмотрим на количество сущностей"
   ]
  },
  {
   "cell_type": "code",
   "execution_count": 4,
   "id": "b3f3faf7",
   "metadata": {},
   "outputs": [
    {
     "data": {
      "text/plain": [
       "car_ID              205\n",
       "symboling           205\n",
       "fueltype            205\n",
       "aspiration          205\n",
       "doornumber          205\n",
       "carbody             205\n",
       "drivewheel          205\n",
       "enginelocation      205\n",
       "wheelbase           205\n",
       "carlength           205\n",
       "carwidth            205\n",
       "carheight           205\n",
       "curbweight          205\n",
       "enginetype          205\n",
       "cylindernumber      205\n",
       "enginesize          205\n",
       "fuelsystem          205\n",
       "boreratio           205\n",
       "stroke              205\n",
       "compressionratio    205\n",
       "horsepower          205\n",
       "peakrpm             205\n",
       "citympg             205\n",
       "highwaympg          205\n",
       "price               205\n",
       "manufacturer        205\n",
       "dtype: int64"
      ]
     },
     "execution_count": 4,
     "metadata": {},
     "output_type": "execute_result"
    }
   ],
   "source": [
    "df.count()\n"
   ]
  },
  {
   "cell_type": "code",
   "execution_count": 5,
   "id": "c4182a1a",
   "metadata": {},
   "outputs": [
    {
     "data": {
      "text/plain": [
       "205"
      ]
     },
     "execution_count": 5,
     "metadata": {},
     "output_type": "execute_result"
    }
   ],
   "source": [
    "len(df[\"car_ID\"].unique())\n"
   ]
  },
  {
   "cell_type": "markdown",
   "id": "cb371f9e",
   "metadata": {},
   "source": [
    "Действительно, car_ID - это просто индекс. Его можно убрать, а не рассматриватьт как порядковый признак"
   ]
  },
  {
   "cell_type": "code",
   "execution_count": 6,
   "id": "a2494ccf",
   "metadata": {},
   "outputs": [],
   "source": [
    "df.drop(\"car_ID\", axis=1, inplace=True)"
   ]
  },
  {
   "cell_type": "markdown",
   "id": "4f30f7c8",
   "metadata": {},
   "source": [
    "Заметим, что количество цилиндров и дверей описано строками:"
   ]
  },
  {
   "cell_type": "code",
   "execution_count": 7,
   "id": "d521cc66",
   "metadata": {},
   "outputs": [
    {
     "data": {
      "text/plain": [
       "['four', 'six', 'five', 'three', 'twelve', 'two', 'eight']"
      ]
     },
     "execution_count": 7,
     "metadata": {},
     "output_type": "execute_result"
    }
   ],
   "source": [
    "list(df[\"cylindernumber\"].unique())\n"
   ]
  },
  {
   "cell_type": "code",
   "execution_count": 8,
   "id": "b98e6bb0",
   "metadata": {
    "scrolled": true
   },
   "outputs": [
    {
     "data": {
      "text/plain": [
       "['two', 'four']"
      ]
     },
     "execution_count": 8,
     "metadata": {},
     "output_type": "execute_result"
    }
   ],
   "source": [
    "list(df[\"doornumber\"].unique())"
   ]
  },
  {
   "cell_type": "markdown",
   "id": "57984fa9",
   "metadata": {},
   "source": [
    "Заменим на числа:"
   ]
  },
  {
   "cell_type": "code",
   "execution_count": 9,
   "id": "541a35e8",
   "metadata": {},
   "outputs": [],
   "source": [
    "df[\"cylindernumber\"].replace([\"four\", \"six\", \"five\", \"three\", \"twelve\", \"two\", \"eight\"], [4, 6, 5, 3, 12, 2, 8], inplace=True)\n",
    "df[\"doornumber\"].replace([\"two\", \"four\"], [2, 4], inplace=True)"
   ]
  },
  {
   "cell_type": "markdown",
   "id": "c5defdb8",
   "metadata": {},
   "source": [
    "Посмотрим на признак fueltype:"
   ]
  },
  {
   "cell_type": "code",
   "execution_count": 10,
   "id": "c4a2f284",
   "metadata": {},
   "outputs": [
    {
     "data": {
      "text/plain": [
       "array(['gas', 'diesel'], dtype=object)"
      ]
     },
     "execution_count": 10,
     "metadata": {},
     "output_type": "execute_result"
    }
   ],
   "source": [
    "df.fueltype.unique()"
   ]
  },
  {
   "cell_type": "markdown",
   "id": "e56f018f",
   "metadata": {},
   "source": [
    "Преобразуем его:"
   ]
  },
  {
   "cell_type": "code",
   "execution_count": 11,
   "id": "7ea7d376",
   "metadata": {
    "scrolled": false
   },
   "outputs": [],
   "source": [
    "#df = df.join(pd.get_dummies([ x + \" fuel\" for x in df.fueltype]))\n",
    "df[\"fueltype\"] = df[\"fueltype\"].apply(lambda x: 1 if x==\"gas\" else 0)"
   ]
  },
  {
   "cell_type": "markdown",
   "id": "a200076d",
   "metadata": {},
   "source": [
    "Теперь признак aspiration:"
   ]
  },
  {
   "cell_type": "code",
   "execution_count": 12,
   "id": "625f3675",
   "metadata": {},
   "outputs": [
    {
     "data": {
      "text/plain": [
       "array(['std', 'turbo'], dtype=object)"
      ]
     },
     "execution_count": 12,
     "metadata": {},
     "output_type": "execute_result"
    }
   ],
   "source": [
    "df.aspiration.unique()"
   ]
  },
  {
   "cell_type": "code",
   "execution_count": 13,
   "id": "78d6ac59",
   "metadata": {},
   "outputs": [],
   "source": [
    "#df = df.join(pd.get_dummies([ x + \" aspiration\" for x in df.aspiration]))\n",
    "df[\"aspiration\"] = df[\"aspiration\"].apply(lambda x: 1 if x==\"turbo\" else 0)"
   ]
  },
  {
   "cell_type": "markdown",
   "id": "3483c5a4",
   "metadata": {},
   "source": [
    "Есть ли зависимость между типом топлива, типом подачи воздуха в двигатель и компрессией, количеством цилиндров?"
   ]
  },
  {
   "cell_type": "code",
   "execution_count": 14,
   "id": "7db39fa5",
   "metadata": {},
   "outputs": [
    {
     "data": {
      "image/png": "[encoded data removed]",
      "text/plain": [
       "<Figure size 2569.12x360 with 7 Axes>"
      ]
     },
     "metadata": {
      "needs_background": "light"
     },
     "output_type": "display_data"
    }
   ],
   "source": [
    "sns.catplot(x='aspiration', y='compressionratio', data=df, hue='fueltype', col=\"cylindernumber\");\n",
    "\n"
   ]
  },
  {
   "cell_type": "markdown",
   "id": "4d9556dc",
   "metadata": {},
   "source": [
    "Дизельные моторые не зависимо от способа подачи воздуха и количества цилиндров имеют более высокую степерь сжатия.\n",
    "Двухцилиндровые и трехцилиндровые авто кажутся экзотическими и работующими только на бензине. 12-цилиндровые - тоже. Очень ли они дорогие? "
   ]
  },
  {
   "cell_type": "code",
   "execution_count": 15,
   "id": "d86c4b36",
   "metadata": {},
   "outputs": [
    {
     "data": {
      "text/plain": [
       "<AxesSubplot:xlabel='cylindernumber', ylabel='price'>"
      ]
     },
     "execution_count": 15,
     "metadata": {},
     "output_type": "execute_result"
    },
    {
     "data": {
      "image/png": "[encoded data removed]",
      "text/plain": [
       "<Figure size 432x288 with 1 Axes>"
      ]
     },
     "metadata": {
      "needs_background": "light"
     },
     "output_type": "display_data"
    }
   ],
   "source": [
    "sns.violinplot(data=df, x=\"cylindernumber\", y=\"price\")"
   ]
  },
  {
   "cell_type": "markdown",
   "id": "d5b6d5b8",
   "metadata": {},
   "source": [
    "Кажется, что с увеличением количества цилиндров двигателя увеличивается и стоимость авто. Как соотносятся объем двигателя и количество цилиндров?"
   ]
  },
  {
   "cell_type": "code",
   "execution_count": 16,
   "id": "de9d3fec",
   "metadata": {},
   "outputs": [
    {
     "data": {
      "image/png": "[encoded data removed]",
      "text/plain": [
       "<Figure size 720x360 with 1 Axes>"
      ]
     },
     "metadata": {
      "needs_background": "light"
     },
     "output_type": "display_data"
    }
   ],
   "source": [
    "sns.catplot(x='cylindernumber', y='enginesize', data=df);\n",
    "fig = plt.gcf()\n",
    "fig.set_size_inches(10, 5)\n",
    "plt.show()"
   ]
  },
  {
   "cell_type": "code",
   "execution_count": 17,
   "id": "a533a6de",
   "metadata": {},
   "outputs": [
    {
     "data": {
      "image/png": "[encoded data removed]",
      "text/plain": [
       "<Figure size 720x360 with 1 Axes>"
      ]
     },
     "metadata": {
      "needs_background": "light"
     },
     "output_type": "display_data"
    }
   ],
   "source": [
    "sns.violinplot(data=df, x=\"cylindernumber\", y=\"enginesize\")\n",
    "fig = plt.gcf()\n",
    "fig.set_size_inches(10, 5)\n",
    "plt.show()"
   ]
  },
  {
   "cell_type": "markdown",
   "id": "360423c0",
   "metadata": {},
   "source": [
    "Больше цилиндров = больше объем. Из объема двигателя можно попробоать сделать категориальный признак."
   ]
  },
  {
   "cell_type": "code",
   "execution_count": 18,
   "id": "7c5a7acb",
   "metadata": {},
   "outputs": [
    {
     "data": {
      "text/plain": [
       "count    205.000000\n",
       "mean     126.907317\n",
       "std       41.642693\n",
       "min       61.000000\n",
       "25%       97.000000\n",
       "50%      120.000000\n",
       "75%      141.000000\n",
       "max      326.000000\n",
       "Name: enginesize, dtype: float64"
      ]
     },
     "execution_count": 18,
     "metadata": {},
     "output_type": "execute_result"
    }
   ],
   "source": [
    "df[\"enginesize\"].describe()"
   ]
  },
  {
   "cell_type": "code",
   "execution_count": 19,
   "id": "af1c0a4d",
   "metadata": {},
   "outputs": [],
   "source": [
    "df[\"enginesize\"] = df[\"enginesize\"].apply(lambda x: 0 if x <= 98.0 else 2 if x >=146.0 else 1 )\n",
    "    "
   ]
  },
  {
   "cell_type": "markdown",
   "id": "5a5aaaac",
   "metadata": {},
   "source": [
    "Выделили 3 категории авто:\n",
    "\n",
    "0) малолитражные\n",
    "1) со средним объемом\n",
    "2) \"высоколитражные\""
   ]
  },
  {
   "cell_type": "markdown",
   "id": "0227339f",
   "metadata": {},
   "source": [
    "Усредним расход топлива автомобилей:"
   ]
  },
  {
   "cell_type": "code",
   "execution_count": 20,
   "id": "15584857",
   "metadata": {},
   "outputs": [],
   "source": [
    "df[\"mpg\"] = 0.0\n",
    "df[\"mpg\"] = (df[\"citympg\"] + df[\"highwaympg\"])/2"
   ]
  },
  {
   "cell_type": "markdown",
   "id": "20a7c8ad",
   "metadata": {},
   "source": [
    "Какие автомобили расходуют больше всего топлива?"
   ]
  },
  {
   "cell_type": "code",
   "execution_count": 21,
   "id": "7a42fc9e",
   "metadata": {},
   "outputs": [
    {
     "data": {
      "text/html": [
       "<div>\n",
       "<style scoped>\n",
       "    .dataframe tbody tr th:only-of-type {\n",
       "        vertical-align: middle;\n",
       "    }\n",
       "\n",
       "    .dataframe tbody tr th {\n",
       "        vertical-align: top;\n",
       "    }\n",
       "\n",
       "    .dataframe thead th {\n",
       "        text-align: right;\n",
       "    }\n",
       "</style>\n",
       "<table border=\"1\" class=\"dataframe\">\n",
       "  <thead>\n",
       "    <tr style=\"text-align: right;\">\n",
       "      <th></th>\n",
       "      <th>mpg</th>\n",
       "      <th>citympg</th>\n",
       "      <th>highwaympg</th>\n",
       "    </tr>\n",
       "    <tr>\n",
       "      <th>enginesize</th>\n",
       "      <th></th>\n",
       "      <th></th>\n",
       "      <th></th>\n",
       "    </tr>\n",
       "  </thead>\n",
       "  <tbody>\n",
       "    <tr>\n",
       "      <th>0</th>\n",
       "      <td>33.871212</td>\n",
       "      <td>30.969697</td>\n",
       "      <td>36.772727</td>\n",
       "    </tr>\n",
       "    <tr>\n",
       "      <th>1</th>\n",
       "      <td>26.887640</td>\n",
       "      <td>24.078652</td>\n",
       "      <td>29.696629</td>\n",
       "    </tr>\n",
       "    <tr>\n",
       "      <th>2</th>\n",
       "      <td>22.170000</td>\n",
       "      <td>19.660000</td>\n",
       "      <td>24.680000</td>\n",
       "    </tr>\n",
       "  </tbody>\n",
       "</table>\n",
       "</div>"
      ],
      "text/plain": [
       "                  mpg    citympg  highwaympg\n",
       "enginesize                                  \n",
       "0           33.871212  30.969697   36.772727\n",
       "1           26.887640  24.078652   29.696629\n",
       "2           22.170000  19.660000   24.680000"
      ]
     },
     "execution_count": 21,
     "metadata": {},
     "output_type": "execute_result"
    }
   ],
   "source": [
    "df.groupby(\"enginesize\")[\"mpg\", \"citympg\", \"highwaympg\"].mean()"
   ]
  },
  {
   "cell_type": "markdown",
   "id": "0932bf67",
   "metadata": {},
   "source": [
    "Малолитражки расходуют в разы больше топлива. "
   ]
  },
  {
   "cell_type": "markdown",
   "id": "8d4c6944",
   "metadata": {},
   "source": [
    "Как влиет объем двигателя, максимальные обороты на развиваемую мощность?"
   ]
  },
  {
   "cell_type": "code",
   "execution_count": 22,
   "id": "aadbd088",
   "metadata": {},
   "outputs": [
    {
     "data": {
      "image/png": "[encoded data removed]",
      "text/plain": [
       "<Figure size 1080x720 with 1 Axes>"
      ]
     },
     "metadata": {
      "needs_background": "light"
     },
     "output_type": "display_data"
    }
   ],
   "source": [
    "sns.barplot(x='peakrpm', y='horsepower', data=df, hue=\"enginesize\");\n",
    "fig = plt.gcf()\n",
    "fig.set_size_inches(15, 10)\n",
    "plt.show()\n",
    "\n"
   ]
  },
  {
   "cell_type": "markdown",
   "id": "fefc40b3",
   "metadata": {},
   "source": [
    "С увеличением объема двигателя прослеживается рост мощности двигателя. Скорость вращения двигателя не влият на мощность. Посмотрим на соотношение цены авто и развиваемой им мощности:"
   ]
  },
  {
   "cell_type": "code",
   "execution_count": 23,
   "id": "88528e8a",
   "metadata": {},
   "outputs": [
    {
     "data": {
      "image/png": "[encoded data removed]",
      "text/plain": [
       "<Figure size 1080x720 with 1 Axes>"
      ]
     },
     "metadata": {
      "needs_background": "light"
     },
     "output_type": "display_data"
    }
   ],
   "source": [
    "sns.barplot(x='horsepower', y='price', data=df, hue=\"fueltype\");\n",
    "fig = plt.gcf()\n",
    "fig.set_size_inches(15, 10)\n",
    "plt.show()\n",
    "\n"
   ]
  },
  {
   "cell_type": "markdown",
   "id": "2b3cf3b7",
   "metadata": {},
   "source": [
    "Чем мощнее авто, тем оно дороже. "
   ]
  },
  {
   "cell_type": "code",
   "execution_count": 24,
   "id": "7158e62d",
   "metadata": {},
   "outputs": [
    {
     "data": {
      "image/png": "[encoded data removed]",
      "text/plain": [
       "<Figure size 1224x864 with 1 Axes>"
      ]
     },
     "metadata": {
      "needs_background": "light"
     },
     "output_type": "display_data"
    }
   ],
   "source": [
    "sns.barplot(x='mpg', y='price', data=df);\n",
    "fig = plt.gcf()\n",
    "fig.set_size_inches(17, 12)\n",
    "plt.show()"
   ]
  },
  {
   "cell_type": "markdown",
   "id": "458fdb59",
   "metadata": {},
   "source": [
    "Экономичные машины - довольно дорогие."
   ]
  },
  {
   "cell_type": "markdown",
   "id": "fd88fbce",
   "metadata": {},
   "source": [
    "Перейдем к внешним характеристиками автомобилей:"
   ]
  },
  {
   "cell_type": "markdown",
   "id": "bdd3b7af",
   "metadata": {},
   "source": [
    "Признак carbody:"
   ]
  },
  {
   "cell_type": "code",
   "execution_count": 25,
   "id": "247ab08d",
   "metadata": {},
   "outputs": [
    {
     "data": {
      "text/plain": [
       "array(['convertible', 'hatchback', 'sedan', 'wagon', 'hardtop'],\n",
       "      dtype=object)"
      ]
     },
     "execution_count": 25,
     "metadata": {},
     "output_type": "execute_result"
    }
   ],
   "source": [
    "df.carbody.unique()"
   ]
  },
  {
   "cell_type": "code",
   "execution_count": 26,
   "id": "31ab7739",
   "metadata": {},
   "outputs": [
    {
     "data": {
      "image/png": "[encoded data removed]",
      "text/plain": [
       "<Figure size 1080x720 with 1 Axes>"
      ]
     },
     "metadata": {
      "needs_background": "light"
     },
     "output_type": "display_data"
    }
   ],
   "source": [
    "sns.countplot(data=df, x=\"carbody\", hue=\"doornumber\")\n",
    "\n",
    "fig = plt.gcf()\n",
    "fig.set_size_inches(15, 10)\n",
    "plt.show()"
   ]
  },
  {
   "cell_type": "markdown",
   "id": "a5dbc0cc",
   "metadata": {},
   "source": [
    "Для простоты будем считать, что авто с 2мя дверями - это купе (coupe)\n",
    "Но есть, например, hatchback и sedan, у которых есть вариации как с 2мя, так и с 4мя дверями. Удалим такие сущности. "
   ]
  },
  {
   "cell_type": "code",
   "execution_count": 27,
   "id": "ee145782",
   "metadata": {},
   "outputs": [],
   "source": [
    "df.drop(df[df[\"doornumber\"]==4][df[\"carbody\"]==\"hatchback\"].index, inplace=True)\n",
    "df.drop(df[df[\"doornumber\"]==2][df[\"carbody\"]==\"sedan\"].index, inplace=True)"
   ]
  },
  {
   "cell_type": "markdown",
   "id": "41339a32",
   "metadata": {},
   "source": [
    "Создадим новый признак coupe:"
   ]
  },
  {
   "cell_type": "code",
   "execution_count": 28,
   "id": "527710a6",
   "metadata": {},
   "outputs": [],
   "source": [
    "df[\"coupe\"] = 0\n",
    "func = lambda doornum: 1 if doornum==2 else 0 \n",
    "df[\"coupe\"] =  df[\"doornumber\"].apply(func)"
   ]
  },
  {
   "cell_type": "markdown",
   "id": "6ee25e8b",
   "metadata": {},
   "source": [
    "Признак enginelocation:"
   ]
  },
  {
   "cell_type": "code",
   "execution_count": 29,
   "id": "4d79c43f",
   "metadata": {},
   "outputs": [
    {
     "data": {
      "image/png": "[encoded data removed]",
      "text/plain": [
       "<Figure size 1080x720 with 1 Axes>"
      ]
     },
     "metadata": {
      "needs_background": "light"
     },
     "output_type": "display_data"
    }
   ],
   "source": [
    "sns.countplot(data=df, x=\"coupe\", hue=\"enginelocation\")\n",
    "fig = plt.gcf()\n",
    "fig.set_size_inches(15, 10)\n",
    "plt.show()"
   ]
  },
  {
   "cell_type": "markdown",
   "id": "474affad",
   "metadata": {},
   "source": [
    "Видно, что с задним расположением двигателя есть авто с кузовом coupe. Их очень мало. как сильно он влияет на цену?"
   ]
  },
  {
   "cell_type": "code",
   "execution_count": 30,
   "id": "e2793e39",
   "metadata": {
    "scrolled": true
   },
   "outputs": [
    {
     "data": {
      "image/png": "[encoded data removed]",
      "text/plain": [
       "<Figure size 720x360 with 1 Axes>"
      ]
     },
     "metadata": {
      "needs_background": "light"
     },
     "output_type": "display_data"
    }
   ],
   "source": [
    "sns.violinplot(data=df, x=\"enginelocation\", y=\"price\")\n",
    "fig = plt.gcf()\n",
    "fig.set_size_inches(10, 5)\n",
    "plt.show()"
   ]
  },
  {
   "cell_type": "markdown",
   "id": "8e8ba831",
   "metadata": {},
   "source": [
    "Кажется, что расположение двигателя оказывает влияние на цену: авто с задним расположением двигателя оцениваются значительно дороже. Преобразуем этот признак."
   ]
  },
  {
   "cell_type": "code",
   "execution_count": 31,
   "id": "59ca9cbe",
   "metadata": {},
   "outputs": [],
   "source": [
    "df[\"enginelocation\"].replace([\"rear\", \"front\"], [1, 0], inplace=True)"
   ]
  },
  {
   "cell_type": "markdown",
   "id": "328bdd36",
   "metadata": {},
   "source": [
    "Посчитаем объем автомобилей:"
   ]
  },
  {
   "cell_type": "code",
   "execution_count": 32,
   "id": "6ee8bd28",
   "metadata": {},
   "outputs": [],
   "source": [
    "df[\"size\"]=0.0\n",
    "df[\"size\"] = df[\"carlength\"]*df[\"carwidth\"]*df[\"carheight\"]/100000 #посчитаем объем машины"
   ]
  },
  {
   "cell_type": "markdown",
   "id": "9ab2ef89",
   "metadata": {},
   "source": [
    "Автомобили обладают разными типами ведущих осей:"
   ]
  },
  {
   "cell_type": "code",
   "execution_count": 33,
   "id": "e2427580",
   "metadata": {},
   "outputs": [
    {
     "data": {
      "text/plain": [
       "array(['rwd', 'fwd', '4wd'], dtype=object)"
      ]
     },
     "execution_count": 33,
     "metadata": {},
     "output_type": "execute_result"
    }
   ],
   "source": [
    "df[\"drivewheel\"].unique()"
   ]
  },
  {
   "cell_type": "markdown",
   "id": "0f19c31a",
   "metadata": {},
   "source": [
    "Посмотрим, как влияет ведущая ось на признак безопасности авто (symboling). Для начала сдвинем значения symboling на -3 и возьмем по модулю для удобства."
   ]
  },
  {
   "cell_type": "code",
   "execution_count": 34,
   "id": "87987834",
   "metadata": {},
   "outputs": [
    {
     "data": {
      "text/plain": [
       "count    179.000000\n",
       "mean       0.854749\n",
       "std        1.294377\n",
       "min       -2.000000\n",
       "25%        0.000000\n",
       "50%        1.000000\n",
       "75%        2.000000\n",
       "max        3.000000\n",
       "Name: symboling, dtype: float64"
      ]
     },
     "execution_count": 34,
     "metadata": {},
     "output_type": "execute_result"
    }
   ],
   "source": [
    "df[\"symboling\"].describe()"
   ]
  },
  {
   "cell_type": "code",
   "execution_count": 35,
   "id": "3d59f49b",
   "metadata": {},
   "outputs": [
    {
     "data": {
      "text/html": [
       "<div>\n",
       "<style scoped>\n",
       "    .dataframe tbody tr th:only-of-type {\n",
       "        vertical-align: middle;\n",
       "    }\n",
       "\n",
       "    .dataframe tbody tr th {\n",
       "        vertical-align: top;\n",
       "    }\n",
       "\n",
       "    .dataframe thead th {\n",
       "        text-align: right;\n",
       "    }\n",
       "</style>\n",
       "<table border=\"1\" class=\"dataframe\">\n",
       "  <thead>\n",
       "    <tr style=\"text-align: right;\">\n",
       "      <th></th>\n",
       "      <th>symboling</th>\n",
       "      <th>fueltype</th>\n",
       "      <th>aspiration</th>\n",
       "      <th>doornumber</th>\n",
       "      <th>carbody</th>\n",
       "      <th>drivewheel</th>\n",
       "      <th>enginelocation</th>\n",
       "      <th>wheelbase</th>\n",
       "      <th>carlength</th>\n",
       "      <th>carwidth</th>\n",
       "      <th>...</th>\n",
       "      <th>compressionratio</th>\n",
       "      <th>horsepower</th>\n",
       "      <th>peakrpm</th>\n",
       "      <th>citympg</th>\n",
       "      <th>highwaympg</th>\n",
       "      <th>price</th>\n",
       "      <th>manufacturer</th>\n",
       "      <th>mpg</th>\n",
       "      <th>coupe</th>\n",
       "      <th>size</th>\n",
       "    </tr>\n",
       "  </thead>\n",
       "  <tbody>\n",
       "    <tr>\n",
       "      <th>0</th>\n",
       "      <td>0.0</td>\n",
       "      <td>1</td>\n",
       "      <td>0</td>\n",
       "      <td>2</td>\n",
       "      <td>convertible</td>\n",
       "      <td>rwd</td>\n",
       "      <td>0</td>\n",
       "      <td>88.6</td>\n",
       "      <td>168.8</td>\n",
       "      <td>64.1</td>\n",
       "      <td>...</td>\n",
       "      <td>9.0</td>\n",
       "      <td>111</td>\n",
       "      <td>5000</td>\n",
       "      <td>21</td>\n",
       "      <td>27</td>\n",
       "      <td>13495.0</td>\n",
       "      <td>alfa-romero</td>\n",
       "      <td>24.0</td>\n",
       "      <td>1</td>\n",
       "      <td>5.280199</td>\n",
       "    </tr>\n",
       "    <tr>\n",
       "      <th>1</th>\n",
       "      <td>0.0</td>\n",
       "      <td>1</td>\n",
       "      <td>0</td>\n",
       "      <td>2</td>\n",
       "      <td>convertible</td>\n",
       "      <td>rwd</td>\n",
       "      <td>0</td>\n",
       "      <td>88.6</td>\n",
       "      <td>168.8</td>\n",
       "      <td>64.1</td>\n",
       "      <td>...</td>\n",
       "      <td>9.0</td>\n",
       "      <td>111</td>\n",
       "      <td>5000</td>\n",
       "      <td>21</td>\n",
       "      <td>27</td>\n",
       "      <td>16500.0</td>\n",
       "      <td>alfa-romero</td>\n",
       "      <td>24.0</td>\n",
       "      <td>1</td>\n",
       "      <td>5.280199</td>\n",
       "    </tr>\n",
       "    <tr>\n",
       "      <th>2</th>\n",
       "      <td>2.0</td>\n",
       "      <td>1</td>\n",
       "      <td>0</td>\n",
       "      <td>2</td>\n",
       "      <td>hatchback</td>\n",
       "      <td>rwd</td>\n",
       "      <td>0</td>\n",
       "      <td>94.5</td>\n",
       "      <td>171.2</td>\n",
       "      <td>65.5</td>\n",
       "      <td>...</td>\n",
       "      <td>9.0</td>\n",
       "      <td>154</td>\n",
       "      <td>5000</td>\n",
       "      <td>19</td>\n",
       "      <td>26</td>\n",
       "      <td>16500.0</td>\n",
       "      <td>alfa-romero</td>\n",
       "      <td>22.5</td>\n",
       "      <td>1</td>\n",
       "      <td>5.875926</td>\n",
       "    </tr>\n",
       "    <tr>\n",
       "      <th>3</th>\n",
       "      <td>1.0</td>\n",
       "      <td>1</td>\n",
       "      <td>0</td>\n",
       "      <td>4</td>\n",
       "      <td>sedan</td>\n",
       "      <td>fwd</td>\n",
       "      <td>0</td>\n",
       "      <td>99.8</td>\n",
       "      <td>176.6</td>\n",
       "      <td>66.2</td>\n",
       "      <td>...</td>\n",
       "      <td>10.0</td>\n",
       "      <td>102</td>\n",
       "      <td>5500</td>\n",
       "      <td>24</td>\n",
       "      <td>30</td>\n",
       "      <td>13950.0</td>\n",
       "      <td>audi</td>\n",
       "      <td>27.0</td>\n",
       "      <td>0</td>\n",
       "      <td>6.348170</td>\n",
       "    </tr>\n",
       "    <tr>\n",
       "      <th>4</th>\n",
       "      <td>1.0</td>\n",
       "      <td>1</td>\n",
       "      <td>0</td>\n",
       "      <td>4</td>\n",
       "      <td>sedan</td>\n",
       "      <td>4wd</td>\n",
       "      <td>0</td>\n",
       "      <td>99.4</td>\n",
       "      <td>176.6</td>\n",
       "      <td>66.4</td>\n",
       "      <td>...</td>\n",
       "      <td>8.0</td>\n",
       "      <td>115</td>\n",
       "      <td>5500</td>\n",
       "      <td>18</td>\n",
       "      <td>22</td>\n",
       "      <td>17450.0</td>\n",
       "      <td>audi</td>\n",
       "      <td>20.0</td>\n",
       "      <td>0</td>\n",
       "      <td>6.367348</td>\n",
       "    </tr>\n",
       "    <tr>\n",
       "      <th>...</th>\n",
       "      <td>...</td>\n",
       "      <td>...</td>\n",
       "      <td>...</td>\n",
       "      <td>...</td>\n",
       "      <td>...</td>\n",
       "      <td>...</td>\n",
       "      <td>...</td>\n",
       "      <td>...</td>\n",
       "      <td>...</td>\n",
       "      <td>...</td>\n",
       "      <td>...</td>\n",
       "      <td>...</td>\n",
       "      <td>...</td>\n",
       "      <td>...</td>\n",
       "      <td>...</td>\n",
       "      <td>...</td>\n",
       "      <td>...</td>\n",
       "      <td>...</td>\n",
       "      <td>...</td>\n",
       "      <td>...</td>\n",
       "      <td>...</td>\n",
       "    </tr>\n",
       "    <tr>\n",
       "      <th>200</th>\n",
       "      <td>4.0</td>\n",
       "      <td>1</td>\n",
       "      <td>0</td>\n",
       "      <td>4</td>\n",
       "      <td>sedan</td>\n",
       "      <td>rwd</td>\n",
       "      <td>0</td>\n",
       "      <td>109.1</td>\n",
       "      <td>188.8</td>\n",
       "      <td>68.9</td>\n",
       "      <td>...</td>\n",
       "      <td>9.5</td>\n",
       "      <td>114</td>\n",
       "      <td>5400</td>\n",
       "      <td>23</td>\n",
       "      <td>28</td>\n",
       "      <td>16845.0</td>\n",
       "      <td>volvo</td>\n",
       "      <td>25.5</td>\n",
       "      <td>0</td>\n",
       "      <td>7.219618</td>\n",
       "    </tr>\n",
       "    <tr>\n",
       "      <th>201</th>\n",
       "      <td>4.0</td>\n",
       "      <td>1</td>\n",
       "      <td>1</td>\n",
       "      <td>4</td>\n",
       "      <td>sedan</td>\n",
       "      <td>rwd</td>\n",
       "      <td>0</td>\n",
       "      <td>109.1</td>\n",
       "      <td>188.8</td>\n",
       "      <td>68.8</td>\n",
       "      <td>...</td>\n",
       "      <td>8.7</td>\n",
       "      <td>160</td>\n",
       "      <td>5300</td>\n",
       "      <td>19</td>\n",
       "      <td>25</td>\n",
       "      <td>19045.0</td>\n",
       "      <td>volvo</td>\n",
       "      <td>22.0</td>\n",
       "      <td>0</td>\n",
       "      <td>7.209139</td>\n",
       "    </tr>\n",
       "    <tr>\n",
       "      <th>202</th>\n",
       "      <td>4.0</td>\n",
       "      <td>1</td>\n",
       "      <td>0</td>\n",
       "      <td>4</td>\n",
       "      <td>sedan</td>\n",
       "      <td>rwd</td>\n",
       "      <td>0</td>\n",
       "      <td>109.1</td>\n",
       "      <td>188.8</td>\n",
       "      <td>68.9</td>\n",
       "      <td>...</td>\n",
       "      <td>8.8</td>\n",
       "      <td>134</td>\n",
       "      <td>5500</td>\n",
       "      <td>18</td>\n",
       "      <td>23</td>\n",
       "      <td>21485.0</td>\n",
       "      <td>volvo</td>\n",
       "      <td>20.5</td>\n",
       "      <td>0</td>\n",
       "      <td>7.219618</td>\n",
       "    </tr>\n",
       "    <tr>\n",
       "      <th>203</th>\n",
       "      <td>4.0</td>\n",
       "      <td>0</td>\n",
       "      <td>1</td>\n",
       "      <td>4</td>\n",
       "      <td>sedan</td>\n",
       "      <td>rwd</td>\n",
       "      <td>0</td>\n",
       "      <td>109.1</td>\n",
       "      <td>188.8</td>\n",
       "      <td>68.9</td>\n",
       "      <td>...</td>\n",
       "      <td>23.0</td>\n",
       "      <td>106</td>\n",
       "      <td>4800</td>\n",
       "      <td>26</td>\n",
       "      <td>27</td>\n",
       "      <td>22470.0</td>\n",
       "      <td>volvo</td>\n",
       "      <td>26.5</td>\n",
       "      <td>0</td>\n",
       "      <td>7.219618</td>\n",
       "    </tr>\n",
       "    <tr>\n",
       "      <th>204</th>\n",
       "      <td>4.0</td>\n",
       "      <td>1</td>\n",
       "      <td>1</td>\n",
       "      <td>4</td>\n",
       "      <td>sedan</td>\n",
       "      <td>rwd</td>\n",
       "      <td>0</td>\n",
       "      <td>109.1</td>\n",
       "      <td>188.8</td>\n",
       "      <td>68.9</td>\n",
       "      <td>...</td>\n",
       "      <td>9.5</td>\n",
       "      <td>114</td>\n",
       "      <td>5400</td>\n",
       "      <td>19</td>\n",
       "      <td>25</td>\n",
       "      <td>22625.0</td>\n",
       "      <td>volvo</td>\n",
       "      <td>22.0</td>\n",
       "      <td>0</td>\n",
       "      <td>7.219618</td>\n",
       "    </tr>\n",
       "  </tbody>\n",
       "</table>\n",
       "<p>179 rows × 28 columns</p>\n",
       "</div>"
      ],
      "text/plain": [
       "     symboling  fueltype  aspiration  doornumber      carbody drivewheel  \\\n",
       "0          0.0         1           0           2  convertible        rwd   \n",
       "1          0.0         1           0           2  convertible        rwd   \n",
       "2          2.0         1           0           2    hatchback        rwd   \n",
       "3          1.0         1           0           4        sedan        fwd   \n",
       "4          1.0         1           0           4        sedan        4wd   \n",
       "..         ...       ...         ...         ...          ...        ...   \n",
       "200        4.0         1           0           4        sedan        rwd   \n",
       "201        4.0         1           1           4        sedan        rwd   \n",
       "202        4.0         1           0           4        sedan        rwd   \n",
       "203        4.0         0           1           4        sedan        rwd   \n",
       "204        4.0         1           1           4        sedan        rwd   \n",
       "\n",
       "     enginelocation  wheelbase  carlength  carwidth  ...  compressionratio  \\\n",
       "0                 0       88.6      168.8      64.1  ...               9.0   \n",
       "1                 0       88.6      168.8      64.1  ...               9.0   \n",
       "2                 0       94.5      171.2      65.5  ...               9.0   \n",
       "3                 0       99.8      176.6      66.2  ...              10.0   \n",
       "4                 0       99.4      176.6      66.4  ...               8.0   \n",
       "..              ...        ...        ...       ...  ...               ...   \n",
       "200               0      109.1      188.8      68.9  ...               9.5   \n",
       "201               0      109.1      188.8      68.8  ...               8.7   \n",
       "202               0      109.1      188.8      68.9  ...               8.8   \n",
       "203               0      109.1      188.8      68.9  ...              23.0   \n",
       "204               0      109.1      188.8      68.9  ...               9.5   \n",
       "\n",
       "     horsepower peakrpm  citympg  highwaympg    price  manufacturer   mpg  \\\n",
       "0           111    5000       21          27  13495.0   alfa-romero  24.0   \n",
       "1           111    5000       21          27  16500.0   alfa-romero  24.0   \n",
       "2           154    5000       19          26  16500.0   alfa-romero  22.5   \n",
       "3           102    5500       24          30  13950.0          audi  27.0   \n",
       "4           115    5500       18          22  17450.0          audi  20.0   \n",
       "..          ...     ...      ...         ...      ...           ...   ...   \n",
       "200         114    5400       23          28  16845.0         volvo  25.5   \n",
       "201         160    5300       19          25  19045.0         volvo  22.0   \n",
       "202         134    5500       18          23  21485.0         volvo  20.5   \n",
       "203         106    4800       26          27  22470.0         volvo  26.5   \n",
       "204         114    5400       19          25  22625.0         volvo  22.0   \n",
       "\n",
       "     coupe      size  \n",
       "0        1  5.280199  \n",
       "1        1  5.280199  \n",
       "2        1  5.875926  \n",
       "3        0  6.348170  \n",
       "4        0  6.367348  \n",
       "..     ...       ...  \n",
       "200      0  7.219618  \n",
       "201      0  7.209139  \n",
       "202      0  7.219618  \n",
       "203      0  7.219618  \n",
       "204      0  7.219618  \n",
       "\n",
       "[179 rows x 28 columns]"
      ]
     },
     "execution_count": 35,
     "metadata": {},
     "output_type": "execute_result"
    }
   ],
   "source": [
    "from math import fabs\n",
    "df[\"symboling\"] = df[\"symboling\"].apply(lambda x: fabs(x - 3))\n",
    "df"
   ]
  },
  {
   "cell_type": "markdown",
   "id": "f84e9c7d",
   "metadata": {},
   "source": [
    "Теперь признак имеет следующий характер: \n",
    "0 - самый небезопасный\n",
    "5 - самый безопасный"
   ]
  },
  {
   "cell_type": "code",
   "execution_count": 36,
   "id": "55830e02",
   "metadata": {},
   "outputs": [
    {
     "data": {
      "image/png": "[encoded data removed]",
      "text/plain": [
       "<Figure size 720x360 with 1 Axes>"
      ]
     },
     "metadata": {
      "needs_background": "light"
     },
     "output_type": "display_data"
    }
   ],
   "source": [
    "sns.violinplot(x='drivewheel', y='symboling', data=df);\n",
    "fig = plt.gcf()\n",
    "fig.set_size_inches(10, 5)\n",
    "plt.show()"
   ]
  },
  {
   "cell_type": "code",
   "execution_count": 37,
   "id": "e0c0f2e9",
   "metadata": {},
   "outputs": [
    {
     "data": {
      "image/png": "[encoded data removed]",
      "text/plain": [
       "<Figure size 720x360 with 1 Axes>"
      ]
     },
     "metadata": {
      "needs_background": "light"
     },
     "output_type": "display_data"
    }
   ],
   "source": [
    "sns.barplot(x='drivewheel', y='symboling', data=df);\n",
    "fig = plt.gcf()\n",
    "fig.set_size_inches(10, 5)\n",
    "plt.show()"
   ]
  },
  {
   "cell_type": "code",
   "execution_count": 38,
   "id": "ebabdb04",
   "metadata": {},
   "outputs": [],
   "source": [
    "df[\"drivewheel\"].replace([\"4wd\", \"rwd\", \"fwd\"], [3, 2, 1], inplace=True)"
   ]
  },
  {
   "cell_type": "markdown",
   "id": "d8513fb5",
   "metadata": {},
   "source": [
    "Безопаснее всего передвигаться на автомобилях с полным приводом.\n",
    "Как уровень безопасности влияет на стоимость?"
   ]
  },
  {
   "cell_type": "code",
   "execution_count": 39,
   "id": "3b7ebf06",
   "metadata": {},
   "outputs": [
    {
     "data": {
      "image/png": "[encoded data removed]",
      "text/plain": [
       "<Figure size 720x360 with 1 Axes>"
      ]
     },
     "metadata": {
      "needs_background": "light"
     },
     "output_type": "display_data"
    }
   ],
   "source": [
    "sns.barplot(x='symboling', y='price', data=df);\n",
    "fig = plt.gcf()\n",
    "fig.set_size_inches(10, 5)\n",
    "plt.show()"
   ]
  },
  {
   "cell_type": "markdown",
   "id": "ec0223c1",
   "metadata": {},
   "source": [
    "Безопасные авто дороже, но есть исключение: самые небезопасные авто стоят сравнимо в безопасными. С чем это связано?\n",
    "Сравним мощности авто и категории их безопасности:"
   ]
  },
  {
   "cell_type": "code",
   "execution_count": 40,
   "id": "61497787",
   "metadata": {},
   "outputs": [
    {
     "data": {
      "image/png": "[encoded data removed]",
      "text/plain": [
       "<Figure size 720x360 with 1 Axes>"
      ]
     },
     "metadata": {
      "needs_background": "light"
     },
     "output_type": "display_data"
    }
   ],
   "source": [
    "sns.barplot(x='symboling', y='horsepower', data=df);\n",
    "fig = plt.gcf()\n",
    "fig.set_size_inches(10, 5)\n",
    "plt.show()"
   ]
  },
  {
   "cell_type": "markdown",
   "id": "f30df56e",
   "metadata": {},
   "source": [
    "Влияние типа кузова на безопасность:"
   ]
  },
  {
   "cell_type": "code",
   "execution_count": 41,
   "id": "23917b10",
   "metadata": {},
   "outputs": [
    {
     "data": {
      "image/png": "[encoded data removed]",
      "text/plain": [
       "<Figure size 720x360 with 1 Axes>"
      ]
     },
     "metadata": {
      "needs_background": "light"
     },
     "output_type": "display_data"
    }
   ],
   "source": [
    "sns.barplot(x='coupe', y='symboling', data=df);\n",
    "fig = plt.gcf()\n",
    "fig.set_size_inches(10, 5)\n",
    "plt.show()"
   ]
  },
  {
   "cell_type": "markdown",
   "id": "9f080fce",
   "metadata": {},
   "source": [
    "Влияние размера авто на безопасность:"
   ]
  },
  {
   "cell_type": "code",
   "execution_count": 42,
   "id": "aced3ba3",
   "metadata": {},
   "outputs": [
    {
     "data": {
      "image/png": "[encoded data removed]",
      "text/plain": [
       "<Figure size 1080x720 with 1 Axes>"
      ]
     },
     "metadata": {
      "needs_background": "light"
     },
     "output_type": "display_data"
    }
   ],
   "source": [
    "sns.barplot(x='symboling', y='size', data=df, hue=\"coupe\");\n",
    "fig = plt.gcf()\n",
    "fig.set_size_inches(15, 10)\n",
    "plt.show()\n"
   ]
  },
  {
   "cell_type": "markdown",
   "id": "7375f378",
   "metadata": {},
   "source": [
    "Посмотрим зависит ли ценник машины от ее производителя:"
   ]
  },
  {
   "cell_type": "code",
   "execution_count": 43,
   "id": "9389ccdd",
   "metadata": {
    "scrolled": true
   },
   "outputs": [
    {
     "data": {
      "text/plain": [
       "manufacturer\n",
       "alfa-romero     3\n",
       "audi            6\n",
       "bmw             5\n",
       "buick           8\n",
       "chevrolet       3\n",
       "dodge           7\n",
       "honda          12\n",
       "isuzu           3\n",
       "jaguar          2\n",
       "maxda           2\n",
       "mazda          14\n",
       "mercury         1\n",
       "mitsubishi     13\n",
       "nissan         13\n",
       "peugeot        11\n",
       "plymouth        6\n",
       "porcshce        1\n",
       "porsche         4\n",
       "renault         2\n",
       "saab            6\n",
       "subaru         12\n",
       "toyota         23\n",
       "toyouta         1\n",
       "volkswagen      8\n",
       "volvo          11\n",
       "vw              2\n",
       "Name: manufacturer, dtype: int64"
      ]
     },
     "execution_count": 43,
     "metadata": {},
     "output_type": "execute_result"
    }
   ],
   "source": [
    "df.groupby(\"manufacturer\")[\"manufacturer\"].count()"
   ]
  },
  {
   "cell_type": "markdown",
   "id": "7d21d7fe",
   "metadata": {},
   "source": [
    "Можно увидеть, что производители машин указаны с опечатками/ошибками, исправим это. Информация из доп. источников утверждает, что vw - это wolkswagen, так и будем считать."
   ]
  },
  {
   "cell_type": "code",
   "execution_count": 44,
   "id": "b632e1f7",
   "metadata": {
    "scrolled": true
   },
   "outputs": [
    {
     "data": {
      "text/plain": [
       "manufacturer\n",
       "alfa-romero     3\n",
       "audi            6\n",
       "bmw             5\n",
       "buick           8\n",
       "chevrolet       3\n",
       "dodge           7\n",
       "honda          12\n",
       "isuzu           3\n",
       "jaguar          2\n",
       "mazda          16\n",
       "mercury         1\n",
       "mitsubishi     13\n",
       "nissan         13\n",
       "peugeot        11\n",
       "plymouth        6\n",
       "porsche         5\n",
       "renault         2\n",
       "saab            6\n",
       "subaru         12\n",
       "toyota         24\n",
       "volkswagen     10\n",
       "volvo          11\n",
       "Name: manufacturer, dtype: int64"
      ]
     },
     "execution_count": 44,
     "metadata": {},
     "output_type": "execute_result"
    }
   ],
   "source": [
    "df.replace([\"Nissan\", \"maxda\", \"porcshce\", \"toyouta\", \"vokswagen\", \"vw\"], [\"nissan\", \"mazda\", \"porsche\",  \"toyota\", \"volkswagen\", \"volkswagen\"], inplace=True)\n",
    "df.groupby(\"manufacturer\")[\"manufacturer\"].count()"
   ]
  },
  {
   "cell_type": "markdown",
   "id": "dd5fb272",
   "metadata": {},
   "source": [
    "Посмотрим на средний ценник авто каждого производителя"
   ]
  },
  {
   "cell_type": "code",
   "execution_count": 45,
   "id": "891bae41",
   "metadata": {},
   "outputs": [
    {
     "data": {
      "text/html": [
       "<div>\n",
       "<style scoped>\n",
       "    .dataframe tbody tr th:only-of-type {\n",
       "        vertical-align: middle;\n",
       "    }\n",
       "\n",
       "    .dataframe tbody tr th {\n",
       "        vertical-align: top;\n",
       "    }\n",
       "\n",
       "    .dataframe thead th {\n",
       "        text-align: right;\n",
       "    }\n",
       "</style>\n",
       "<table border=\"1\" class=\"dataframe\">\n",
       "  <thead>\n",
       "    <tr style=\"text-align: right;\">\n",
       "      <th></th>\n",
       "      <th>price</th>\n",
       "    </tr>\n",
       "    <tr>\n",
       "      <th>manufacturer</th>\n",
       "      <th></th>\n",
       "    </tr>\n",
       "  </thead>\n",
       "  <tbody>\n",
       "    <tr>\n",
       "      <th>chevrolet</th>\n",
       "      <td>6007.000000</td>\n",
       "    </tr>\n",
       "    <tr>\n",
       "      <th>honda</th>\n",
       "      <td>8004.666667</td>\n",
       "    </tr>\n",
       "    <tr>\n",
       "      <th>dodge</th>\n",
       "      <td>8013.142857</td>\n",
       "    </tr>\n",
       "    <tr>\n",
       "      <th>plymouth</th>\n",
       "      <td>8252.500000</td>\n",
       "    </tr>\n",
       "    <tr>\n",
       "      <th>subaru</th>\n",
       "      <td>8541.250000</td>\n",
       "    </tr>\n",
       "    <tr>\n",
       "      <th>isuzu</th>\n",
       "      <td>8916.500000</td>\n",
       "    </tr>\n",
       "    <tr>\n",
       "      <th>mitsubishi</th>\n",
       "      <td>9239.769231</td>\n",
       "    </tr>\n",
       "    <tr>\n",
       "      <th>renault</th>\n",
       "      <td>9595.000000</td>\n",
       "    </tr>\n",
       "    <tr>\n",
       "      <th>toyota</th>\n",
       "      <td>10330.083333</td>\n",
       "    </tr>\n",
       "    <tr>\n",
       "      <th>volkswagen</th>\n",
       "      <td>10518.000000</td>\n",
       "    </tr>\n",
       "    <tr>\n",
       "      <th>mazda</th>\n",
       "      <td>10615.875000</td>\n",
       "    </tr>\n",
       "    <tr>\n",
       "      <th>nissan</th>\n",
       "      <td>11691.307692</td>\n",
       "    </tr>\n",
       "    <tr>\n",
       "      <th>saab</th>\n",
       "      <td>15223.333333</td>\n",
       "    </tr>\n",
       "    <tr>\n",
       "      <th>peugeot</th>\n",
       "      <td>15489.090909</td>\n",
       "    </tr>\n",
       "    <tr>\n",
       "      <th>alfa-romero</th>\n",
       "      <td>15498.333333</td>\n",
       "    </tr>\n",
       "    <tr>\n",
       "      <th>mercury</th>\n",
       "      <td>16503.000000</td>\n",
       "    </tr>\n",
       "    <tr>\n",
       "      <th>volvo</th>\n",
       "      <td>18063.181818</td>\n",
       "    </tr>\n",
       "    <tr>\n",
       "      <th>audi</th>\n",
       "      <td>18294.027833</td>\n",
       "    </tr>\n",
       "    <tr>\n",
       "      <th>bmw</th>\n",
       "      <td>26047.000000</td>\n",
       "    </tr>\n",
       "    <tr>\n",
       "      <th>porsche</th>\n",
       "      <td>31400.500000</td>\n",
       "    </tr>\n",
       "    <tr>\n",
       "      <th>buick</th>\n",
       "      <td>33647.000000</td>\n",
       "    </tr>\n",
       "    <tr>\n",
       "      <th>jaguar</th>\n",
       "      <td>33900.000000</td>\n",
       "    </tr>\n",
       "  </tbody>\n",
       "</table>\n",
       "</div>"
      ],
      "text/plain": [
       "                     price\n",
       "manufacturer              \n",
       "chevrolet      6007.000000\n",
       "honda          8004.666667\n",
       "dodge          8013.142857\n",
       "plymouth       8252.500000\n",
       "subaru         8541.250000\n",
       "isuzu          8916.500000\n",
       "mitsubishi     9239.769231\n",
       "renault        9595.000000\n",
       "toyota        10330.083333\n",
       "volkswagen    10518.000000\n",
       "mazda         10615.875000\n",
       "nissan        11691.307692\n",
       "saab          15223.333333\n",
       "peugeot       15489.090909\n",
       "alfa-romero   15498.333333\n",
       "mercury       16503.000000\n",
       "volvo         18063.181818\n",
       "audi          18294.027833\n",
       "bmw           26047.000000\n",
       "porsche       31400.500000\n",
       "buick         33647.000000\n",
       "jaguar        33900.000000"
      ]
     },
     "execution_count": 45,
     "metadata": {},
     "output_type": "execute_result"
    }
   ],
   "source": [
    "df.groupby(\"manufacturer\")[\"manufacturer\", \"price\"].mean().sort_values(by=\"price\")"
   ]
  },
  {
   "cell_type": "markdown",
   "id": "60e26a36",
   "metadata": {},
   "source": [
    "Кажется, что зависит, поэтому назначим порядковые номера"
   ]
  },
  {
   "cell_type": "code",
   "execution_count": 46,
   "id": "70a561a2",
   "metadata": {},
   "outputs": [],
   "source": [
    "manufactors = list(df.groupby(\"manufacturer\")[\"manufacturer\", \"price\"].mean().sort_values(by=\"price\").index)\n",
    "df[\"manufacturer\"] = df[\"manufacturer\"].apply(lambda x: manufactors.index(x))"
   ]
  },
  {
   "cell_type": "markdown",
   "id": "cd36b505",
   "metadata": {},
   "source": [
    "Подводя итоги, можно сказать, что есть определенные зависимости стоимости автомобиля и мощностью, экономичностью, безопасностью и производителем."
   ]
  },
  {
   "cell_type": "code",
   "execution_count": 47,
   "id": "029f56cb",
   "metadata": {},
   "outputs": [
    {
     "data": {
      "text/html": [
       "<div>\n",
       "<style scoped>\n",
       "    .dataframe tbody tr th:only-of-type {\n",
       "        vertical-align: middle;\n",
       "    }\n",
       "\n",
       "    .dataframe tbody tr th {\n",
       "        vertical-align: top;\n",
       "    }\n",
       "\n",
       "    .dataframe thead th {\n",
       "        text-align: right;\n",
       "    }\n",
       "</style>\n",
       "<table border=\"1\" class=\"dataframe\">\n",
       "  <thead>\n",
       "    <tr style=\"text-align: right;\">\n",
       "      <th></th>\n",
       "      <th>symboling</th>\n",
       "      <th>drivewheel</th>\n",
       "      <th>enginelocation</th>\n",
       "      <th>enginesize</th>\n",
       "      <th>horsepower</th>\n",
       "      <th>price</th>\n",
       "      <th>manufacturer</th>\n",
       "      <th>mpg</th>\n",
       "      <th>coupe</th>\n",
       "      <th>size</th>\n",
       "    </tr>\n",
       "  </thead>\n",
       "  <tbody>\n",
       "    <tr>\n",
       "      <th>0</th>\n",
       "      <td>0.0</td>\n",
       "      <td>2</td>\n",
       "      <td>0</td>\n",
       "      <td>1</td>\n",
       "      <td>111</td>\n",
       "      <td>13495.0</td>\n",
       "      <td>14</td>\n",
       "      <td>24.0</td>\n",
       "      <td>1</td>\n",
       "      <td>5.280199</td>\n",
       "    </tr>\n",
       "    <tr>\n",
       "      <th>1</th>\n",
       "      <td>0.0</td>\n",
       "      <td>2</td>\n",
       "      <td>0</td>\n",
       "      <td>1</td>\n",
       "      <td>111</td>\n",
       "      <td>16500.0</td>\n",
       "      <td>14</td>\n",
       "      <td>24.0</td>\n",
       "      <td>1</td>\n",
       "      <td>5.280199</td>\n",
       "    </tr>\n",
       "    <tr>\n",
       "      <th>2</th>\n",
       "      <td>2.0</td>\n",
       "      <td>2</td>\n",
       "      <td>0</td>\n",
       "      <td>2</td>\n",
       "      <td>154</td>\n",
       "      <td>16500.0</td>\n",
       "      <td>14</td>\n",
       "      <td>22.5</td>\n",
       "      <td>1</td>\n",
       "      <td>5.875926</td>\n",
       "    </tr>\n",
       "    <tr>\n",
       "      <th>3</th>\n",
       "      <td>1.0</td>\n",
       "      <td>1</td>\n",
       "      <td>0</td>\n",
       "      <td>1</td>\n",
       "      <td>102</td>\n",
       "      <td>13950.0</td>\n",
       "      <td>17</td>\n",
       "      <td>27.0</td>\n",
       "      <td>0</td>\n",
       "      <td>6.348170</td>\n",
       "    </tr>\n",
       "    <tr>\n",
       "      <th>4</th>\n",
       "      <td>1.0</td>\n",
       "      <td>3</td>\n",
       "      <td>0</td>\n",
       "      <td>1</td>\n",
       "      <td>115</td>\n",
       "      <td>17450.0</td>\n",
       "      <td>17</td>\n",
       "      <td>20.0</td>\n",
       "      <td>0</td>\n",
       "      <td>6.367348</td>\n",
       "    </tr>\n",
       "    <tr>\n",
       "      <th>...</th>\n",
       "      <td>...</td>\n",
       "      <td>...</td>\n",
       "      <td>...</td>\n",
       "      <td>...</td>\n",
       "      <td>...</td>\n",
       "      <td>...</td>\n",
       "      <td>...</td>\n",
       "      <td>...</td>\n",
       "      <td>...</td>\n",
       "      <td>...</td>\n",
       "    </tr>\n",
       "    <tr>\n",
       "      <th>200</th>\n",
       "      <td>4.0</td>\n",
       "      <td>2</td>\n",
       "      <td>0</td>\n",
       "      <td>1</td>\n",
       "      <td>114</td>\n",
       "      <td>16845.0</td>\n",
       "      <td>16</td>\n",
       "      <td>25.5</td>\n",
       "      <td>0</td>\n",
       "      <td>7.219618</td>\n",
       "    </tr>\n",
       "    <tr>\n",
       "      <th>201</th>\n",
       "      <td>4.0</td>\n",
       "      <td>2</td>\n",
       "      <td>0</td>\n",
       "      <td>1</td>\n",
       "      <td>160</td>\n",
       "      <td>19045.0</td>\n",
       "      <td>16</td>\n",
       "      <td>22.0</td>\n",
       "      <td>0</td>\n",
       "      <td>7.209139</td>\n",
       "    </tr>\n",
       "    <tr>\n",
       "      <th>202</th>\n",
       "      <td>4.0</td>\n",
       "      <td>2</td>\n",
       "      <td>0</td>\n",
       "      <td>2</td>\n",
       "      <td>134</td>\n",
       "      <td>21485.0</td>\n",
       "      <td>16</td>\n",
       "      <td>20.5</td>\n",
       "      <td>0</td>\n",
       "      <td>7.219618</td>\n",
       "    </tr>\n",
       "    <tr>\n",
       "      <th>203</th>\n",
       "      <td>4.0</td>\n",
       "      <td>2</td>\n",
       "      <td>0</td>\n",
       "      <td>1</td>\n",
       "      <td>106</td>\n",
       "      <td>22470.0</td>\n",
       "      <td>16</td>\n",
       "      <td>26.5</td>\n",
       "      <td>0</td>\n",
       "      <td>7.219618</td>\n",
       "    </tr>\n",
       "    <tr>\n",
       "      <th>204</th>\n",
       "      <td>4.0</td>\n",
       "      <td>2</td>\n",
       "      <td>0</td>\n",
       "      <td>1</td>\n",
       "      <td>114</td>\n",
       "      <td>22625.0</td>\n",
       "      <td>16</td>\n",
       "      <td>22.0</td>\n",
       "      <td>0</td>\n",
       "      <td>7.219618</td>\n",
       "    </tr>\n",
       "  </tbody>\n",
       "</table>\n",
       "<p>179 rows × 10 columns</p>\n",
       "</div>"
      ],
      "text/plain": [
       "     symboling  drivewheel  enginelocation  enginesize  horsepower    price  \\\n",
       "0          0.0           2               0           1         111  13495.0   \n",
       "1          0.0           2               0           1         111  16500.0   \n",
       "2          2.0           2               0           2         154  16500.0   \n",
       "3          1.0           1               0           1         102  13950.0   \n",
       "4          1.0           3               0           1         115  17450.0   \n",
       "..         ...         ...             ...         ...         ...      ...   \n",
       "200        4.0           2               0           1         114  16845.0   \n",
       "201        4.0           2               0           1         160  19045.0   \n",
       "202        4.0           2               0           2         134  21485.0   \n",
       "203        4.0           2               0           1         106  22470.0   \n",
       "204        4.0           2               0           1         114  22625.0   \n",
       "\n",
       "     manufacturer   mpg  coupe      size  \n",
       "0              14  24.0      1  5.280199  \n",
       "1              14  24.0      1  5.280199  \n",
       "2              14  22.5      1  5.875926  \n",
       "3              17  27.0      0  6.348170  \n",
       "4              17  20.0      0  6.367348  \n",
       "..            ...   ...    ...       ...  \n",
       "200            16  25.5      0  7.219618  \n",
       "201            16  22.0      0  7.209139  \n",
       "202            16  20.5      0  7.219618  \n",
       "203            16  26.5      0  7.219618  \n",
       "204            16  22.0      0  7.219618  \n",
       "\n",
       "[179 rows x 10 columns]"
      ]
     },
     "execution_count": 47,
     "metadata": {},
     "output_type": "execute_result"
    }
   ],
   "source": [
    "df.drop([\"cylindernumber\",\"fueltype\",  \"aspiration\", \"curbweight\", \"compressionratio\",    \"doornumber\", \"carbody\", \"wheelbase\", \"enginetype\", \"carlength\", \"carwidth\", \"carheight\", \"fuelsystem\", \"boreratio\", \"stroke\", \"peakrpm\", \"citympg\", \"highwaympg\"], axis=1, inplace=True)\n",
    "df"
   ]
  },
  {
   "cell_type": "code",
   "execution_count": 48,
   "id": "d0441ac0",
   "metadata": {},
   "outputs": [
    {
     "data": {
      "image/png": "[encoded data removed]",
      "text/plain": [
       "<Figure size 720x360 with 2 Axes>"
      ]
     },
     "metadata": {
      "needs_background": "light"
     },
     "output_type": "display_data"
    }
   ],
   "source": [
    "sns.heatmap(df.corr(), annot=True, cmap='RdYlGn')\n",
    "fig = plt.gcf()\n",
    "fig.set_size_inches(10, 5)\n",
    "plt.show()"
   ]
  },
  {
   "cell_type": "markdown",
   "id": "b5c7809e",
   "metadata": {},
   "source": [
    "Случайно разделим данные на тренировочную и тестовую выборки"
   ]
  },
  {
   "cell_type": "code",
   "execution_count": 49,
   "id": "a4fa42a3",
   "metadata": {},
   "outputs": [],
   "source": [
    "y = df[\"price\"]\n",
    "X = df.drop([\"price\"], axis=1)\n"
   ]
  },
  {
   "cell_type": "code",
   "execution_count": 50,
   "id": "54ae3256",
   "metadata": {},
   "outputs": [],
   "source": [
    "from sklearn.model_selection import train_test_split\n",
    "X_train, X_test, y_train, y_test = train_test_split(X, y, test_size=0.2)"
   ]
  },
  {
   "cell_type": "markdown",
   "id": "12f71923",
   "metadata": {},
   "source": [
    "Масштабируем данные:"
   ]
  },
  {
   "cell_type": "code",
   "execution_count": 51,
   "id": "8efe2f2b",
   "metadata": {},
   "outputs": [],
   "source": [
    "from sklearn.preprocessing import StandardScaler\n",
    "\n",
    "numeric_features = [\"symboling\", \"drivewheel\", \"enginesize\", \"horsepower\", \"manufacturer\", \"mpg\", \"size\"]\n",
    "binary_features = [\"enginelocation\", \"coupe\"]\n",
    "\n",
    "scaler = StandardScaler()  # воспользуемся стандартным трансформером\n",
    "\n",
    "# масштабируем обучающую выборку и запоминаем среднее, стандартное отклонение признаков\n",
    "X_train_scaled = scaler.fit_transform(X_train[numeric_features])\n",
    "\n",
    "# масштабируем тестовую выборку используя статистики обучающей выборки\n",
    "X_test_scaled = scaler.transform(X_test[numeric_features])\n",
    "\n",
    "X_train = np.c_[X_train_scaled, np.array(X_train[binary_features])]\n",
    "X_test = np.c_[X_test_scaled, np.array(X_test[binary_features])]\n",
    "\n",
    "# Логорифмируем таргет\n",
    "y_train = np.array(np.log(y_train))\n",
    "y_test = np.array(np.log(y_test))"
   ]
  },
  {
   "cell_type": "markdown",
   "id": "93c6a355",
   "metadata": {},
   "source": [
    "Реализуем метод gradient_descent\n"
   ]
  },
  {
   "cell_type": "code",
   "execution_count": 52,
   "id": "037d633f",
   "metadata": {},
   "outputs": [],
   "source": [
    "from math import sqrt\n",
    "def MSE(y, w, x):\n",
    "    return 1/len(y)*sum(list(map(lambda x: (x[0] - x[1])**2,  zip(y, w.dot(x.T)))))\n",
    "\n",
    "def L2(w):\n",
    "    w_ = w[:-1]\n",
    "    return w_.T.dot(w_)\n",
    "def grad_L2(w):\n",
    "    return np.array([2*x for x in w[:-1]] + [0.0])\n",
    "    \n",
    "def grad_MSE(y, w, x):\n",
    "    prediction = w.dot(x.T)\n",
    "    return -2/len(y)*x.T.dot(y - prediction)\n",
    "\n",
    "def MSE_L2_grad(y, w, x, alph = 1):\n",
    "    return grad_MSE(y, w, x)+alph*grad_L2(w)\n",
    "\n",
    "def gradient_descent(x, y, eps=0.1**3, w=None):\n",
    "    #Adding bias \n",
    "    x_bias = np.c_[x, np.ones(len(x))]\n",
    "    if (w is None):\n",
    "        w = np.ones(x_bias.shape[1])\n",
    "        \n",
    "    w_pred = np.zeros(x_bias.shape[1]);\n",
    "    i=0\n",
    "    while (sqrt((w - w_pred).T.dot(w - w_pred)) > eps):\n",
    "        grad = MSE_L2_grad(y, w, x_bias)\n",
    "        #grad = grad_MSE(y, w, x_bias)\n",
    "        w_pred = w\n",
    "        w = w -  1/(i+1)*grad\n",
    "        i+=1\n",
    "    return np.array(w)\n",
    "\n",
    "def predict(w: np.array, x):\n",
    "    x_bias = np.c_[x, np.ones(len(x))]\n",
    "    return np.array(w.dot(x_bias.T))\n"
   ]
  },
  {
   "cell_type": "markdown",
   "id": "8e9b1ae3",
   "metadata": {},
   "source": [
    "Обучим модели"
   ]
  },
  {
   "cell_type": "code",
   "execution_count": 53,
   "id": "b0ba70dd",
   "metadata": {},
   "outputs": [],
   "source": [
    "weights = gradient_descent(X_train, y_train);#\n",
    "\n",
    "y_train_my_pred = predict( weights, X_train);#\n",
    "y_test_my_pred = predict(weights, X_test);#\n"
   ]
  },
  {
   "cell_type": "code",
   "execution_count": 54,
   "id": "36309d94",
   "metadata": {},
   "outputs": [],
   "source": [
    "from sklearn.linear_model import Ridge\n",
    "from sklearn.metrics import mean_squared_error, r2_score\n",
    "\n",
    "model = Ridge()  # выбранная модель\n",
    "\n",
    "model.fit(X_train, y_train)  # обучение модели на обучающей выборке\n",
    "\n",
    "y_train_Ridge_pred = model.predict(X_train)  # использование модели для предсказания на обучающей\n",
    "y_test_Ridge_pred = model.predict(X_test)  # или на тестовой выборке\n"
   ]
  },
  {
   "cell_type": "code",
   "execution_count": 55,
   "id": "b0582131",
   "metadata": {},
   "outputs": [
    {
     "name": "stdout",
     "output_type": "stream",
     "text": [
      "Сравнительная таблица оценок реализованного метода gradient descent и модели Ridge\n",
      "                     MSE      RMSE        R2\n",
      "0   Mine_train  0.044521  0.210999  0.828227\n",
      "1    Mine_test  0.031478  0.177420  0.844266\n",
      "2  Ridge_train  0.029550  0.171900  0.885988\n",
      "3   Ridge_test  0.029465  0.171653  0.854227\n"
     ]
    }
   ],
   "source": [
    "RMSE_test_Ridge = mean_squared_error(y_test, y_test_Ridge_pred, squared=False)\n",
    "MSE_test_Ridge = mean_squared_error(y_test, y_test_Ridge_pred, squared=True)\n",
    "R2_test_Ridge = r2_score(y_test, y_test_Ridge_pred)\n",
    "\n",
    "RMSE_train_Ridge = mean_squared_error(y_train, y_train_Ridge_pred, squared=False)\n",
    "MSE_train_Ridge = mean_squared_error(y_train, y_train_Ridge_pred, squared=True)\n",
    "R2_train_Ridge = r2_score(y_train, y_train_Ridge_pred)\n",
    "\n",
    "RMSE_test_my = mean_squared_error(y_test, y_test_my_pred, squared=False)\n",
    "MSE_test_my = mean_squared_error(y_test, y_test_my_pred, squared=True)\n",
    "R2_test_my = r2_score(y_test, y_test_my_pred)\n",
    "\n",
    "RMSE_train_my = mean_squared_error(y_train, y_train_my_pred, squared=False)\n",
    "MSE_train_my = mean_squared_error(y_train, y_train_my_pred, squared=True)\n",
    "R2_train_my = r2_score(y_train, y_train_my_pred)\n",
    "table = {\n",
    "    \"\": [\"Mine_train\", \"Mine_test\", \"Ridge_train\", \"Ridge_test\"],\n",
    "    \"MSE\" : [MSE_train_my, MSE_test_my, MSE_train_Ridge, MSE_test_Ridge],\n",
    "    \"RMSE\" : [RMSE_train_my, RMSE_test_my, RMSE_train_Ridge, RMSE_test_Ridge],\n",
    "    \"R2\" : [R2_train_my, R2_test_my, R2_train_Ridge, R2_test_Ridge ] \n",
    "    \n",
    "}\n",
    "print(\"Сравнительная таблица оценок реализованного метода gradient descent и модели Ridge\")\n",
    "print(pd.DataFrame(data = table))"
   ]
  },
  {
   "cell_type": "markdown",
   "id": "9cec1bc1",
   "metadata": {},
   "source": [
    "Сравнивая MSE и RMSE у обученных моделей, можно сделать вывод, что модель Ridge дает несколько лучшие результаты.\n",
    "R2 оценка у обоих моделей близка 1, что говорит о том, что модели в некотором смысле хорошо описывают данные. Однако, Ridge удалось выявить зависимости лучше."
   ]
  },
  {
   "cell_type": "markdown",
   "id": "385c6bb5",
   "metadata": {},
   "source": [
    "Выполним кросс-валидацию"
   ]
  },
  {
   "cell_type": "code",
   "execution_count": 56,
   "id": "dbe48c89",
   "metadata": {},
   "outputs": [],
   "source": [
    "\n",
    "\n",
    "# масштабируем данные и запоминаем среднее, стандартное отклонение признаков\n",
    "X_scaled = scaler.fit_transform(X[numeric_features])\n",
    "X = np.c_[X_scaled, np.array(X[binary_features])]\n",
    "\n",
    "# Логорифмируем таргет\n",
    "y = np.array(np.log(y))\n",
    "\n",
    "def get_folds(X, y, foldsnum):\n",
    "    res = {\"data\": [],\n",
    "           \"target\": [],\n",
    "           \"len\": foldsnum\n",
    "          }\n",
    "    count = 0\n",
    "    foldlen = int(len(X)/foldsnum)\n",
    "    for i in range(1, foldsnum+1): \n",
    "        kcount = foldlen*i\n",
    "        res[\"data\"].append(X[count:kcount])\n",
    "        res[\"target\"].append(y[count:kcount])\n",
    "        count = kcount        \n",
    "    return res\n",
    "\n",
    "folds = get_folds(X, y, 5);\n",
    "MSE_Ridge = {\n",
    "    \"train\": [],\n",
    "    \"test\": []\n",
    "}\n",
    "MSE_my = {\n",
    "    \"train\": [],\n",
    "    \"test\": []\n",
    "}\n",
    "\n",
    "RMSE_Ridge = {\n",
    "    \"train\":[],\n",
    "    \"test\": []\n",
    "}\n",
    "RMSE_my = {\n",
    "    \"train\":[],\n",
    "    \"test\": []\n",
    "}\n",
    "\n",
    "R2_my = {\n",
    "    \"train\":[],\n",
    "    \"test\": []\n",
    "}\n",
    "\n",
    "R2_Ridge = {\n",
    "    \"train\":[],\n",
    "    \"test\": []\n",
    "}\n",
    "\n",
    "\n",
    "\n",
    "for i in  range(folds[\"len\"]):\n",
    "    model = Ridge();\n",
    "    data = np.empty(shape=X.shape)\n",
    "    targ = np.empty(shape=y.shape)\n",
    "    we = None;\n",
    "    for k in range(folds[\"len\"]):\n",
    "        if (i == k):\n",
    "            continue;\n",
    "        model.fit(folds[\"data\"][k], folds[\"target\"][k])\n",
    "        we = gradient_descent(folds[\"data\"][k], folds[\"target\"][k], w=we)\n",
    "        data = np.r_[data, folds[\"data\"][k]]\n",
    "        targ = np.r_[targ, folds[\"target\"][k]]\n",
    "    ridge_test = model.predict(folds[\"data\"][i])\n",
    "    my_test = predict(we, folds[\"data\"][i])\n",
    "    ridge_train = model.predict(data)\n",
    "    my_train = predict(we, data)\n",
    "    \n",
    "    MSE_Ridge[\"train\"].append(mean_squared_error(targ, ridge_train, squared=True))\n",
    "    MSE_my[\"train\"].append(mean_squared_error(targ, my_train, squared=True))\n",
    "    MSE_Ridge[\"test\"].append(mean_squared_error(folds[\"target\"][i], ridge_test, squared=True))\n",
    "    MSE_my[\"test\"].append(mean_squared_error(folds[\"target\"][i], my_test, squared=True))\n",
    "    \n",
    "    RMSE_Ridge[\"train\"].append(mean_squared_error(targ, ridge_train, squared=False))\n",
    "    RMSE_my[\"train\"].append(mean_squared_error(targ, my_train, squared=False))\n",
    "    RMSE_Ridge[\"test\"].append(mean_squared_error(folds[\"target\"][i], ridge_test, squared=False))\n",
    "    RMSE_my[\"test\"].append(mean_squared_error(folds[\"target\"][i], my_test, squared=False))\n",
    "    \n",
    "    R2_Ridge[\"train\"].append(r2_score(targ, ridge_train))\n",
    "    R2_my[\"train\"].append(r2_score(targ, my_train))\n",
    "    R2_Ridge[\"test\"].append(r2_score(folds[\"target\"][i], ridge_test))\n",
    "    R2_my[\"test\"].append(r2_score(folds[\"target\"][i], my_test))\n",
    "\n"
   ]
  },
  {
   "cell_type": "code",
   "execution_count": 57,
   "id": "2baad66a",
   "metadata": {},
   "outputs": [
    {
     "name": "stdout",
     "output_type": "stream",
     "text": [
      "Таблица кросс-валидации для реализованного метода gradient_descent\n",
      "                  Fold1      Fold2      Fold3      Fold4      Fold5       STD  \\\n",
      "0   MSE_train       inf  49.078257  49.260975  49.191987  48.882054       NaN   \n",
      "1    MSE_test  0.104047   0.212761   0.048423   0.155833   0.041815  0.064967   \n",
      "2  RMSE_train       inf   7.005588   7.018616   7.013700   6.991570       NaN   \n",
      "3   RMSE_test  0.322563   0.461260   0.220052   0.394757   0.204488  0.098874   \n",
      "4    R2_train      -inf  -1.281544  -1.267685  -1.259300  -1.250468       NaN   \n",
      "5     R2_test  0.644479   0.506831   0.610219   0.437355   0.456812  0.082475   \n",
      "\n",
      "          E  \n",
      "0       inf  \n",
      "1  0.112576  \n",
      "2       inf  \n",
      "3  0.320624  \n",
      "4      -inf  \n",
      "5  0.531139  \n",
      "\n",
      "\n",
      "\n",
      "Таблица кросс-валидации для модели Ridge\n",
      "                  Fold1      Fold2      Fold3      Fold4      Fold5       STD  \\\n",
      "0   MSE_train       inf  48.620738  48.987038  48.853706  49.484698       NaN   \n",
      "1    MSE_test  0.067900   0.127251   0.032238   0.102869   0.041011  0.036162   \n",
      "2  RMSE_train       inf   6.972857   6.999074   6.989543   7.034536       NaN   \n",
      "3   RMSE_test  0.260576   0.356723   0.179550   0.320732   0.202511  0.067439   \n",
      "4    R2_train      -inf  -1.260275  -1.255075  -1.243764  -1.278213       NaN   \n",
      "5     R2_test  0.767991   0.705038   0.740497   0.628586   0.467262  0.107970   \n",
      "\n",
      "          E  \n",
      "0       inf  \n",
      "1  0.074254  \n",
      "2       inf  \n",
      "3  0.264018  \n",
      "4      -inf  \n",
      "5  0.661875  \n"
     ]
    }
   ],
   "source": [
    "table = {\n",
    "    \"\": [\"MSE_train\", \"MSE_test\", \"RMSE_train\", \"RMSE_test\", \"R2_train\", \"R2_test\"],\n",
    "    \"Fold1\": [MSE_my[\"train\"][0], MSE_my[\"test\"][0], RMSE_my[\"train\"][0], RMSE_my[\"test\"][0], R2_my[\"train\"][0], R2_my[\"test\"][0]],\n",
    "    \"Fold2\": [MSE_my[\"train\"][1], MSE_my[\"test\"][1], RMSE_my[\"train\"][1], RMSE_my[\"test\"][1], R2_my[\"train\"][1], R2_my[\"test\"][1]],\n",
    "    \"Fold3\": [MSE_my[\"train\"][2], MSE_my[\"test\"][2], RMSE_my[\"train\"][2], RMSE_my[\"test\"][2], R2_my[\"train\"][2], R2_my[\"test\"][2]],\n",
    "    \"Fold4\": [MSE_my[\"train\"][3], MSE_my[\"test\"][3], RMSE_my[\"train\"][3], RMSE_my[\"test\"][3], R2_my[\"train\"][3], R2_my[\"test\"][3]],\n",
    "    \"Fold5\": [MSE_my[\"train\"][4], MSE_my[\"test\"][4], RMSE_my[\"train\"][4], RMSE_my[\"test\"][4], R2_my[\"train\"][4], R2_my[\"test\"][4]],\n",
    "    \"STD\":   [np.std(MSE_my[\"train\"]), np.std(MSE_my[\"test\"]), np.std(RMSE_my[\"train\"]), np.std(RMSE_my[\"test\"]), np.std(R2_my[\"train\"]), np.std(R2_my[\"test\"])],\n",
    "    \"E\": [np.mean(MSE_my[\"train\"]), np.mean(MSE_my[\"test\"]), np.mean(RMSE_my[\"train\"]), np.mean(RMSE_my[\"test\"]), np.mean(R2_my[\"train\"]), np.mean(R2_my[\"test\"])],\n",
    "    \n",
    "\n",
    "}\n",
    "print(\"Таблица кросс-валидации для реализованного метода gradient_descent\")\n",
    "print(pd.DataFrame(data=table))\n",
    "\n",
    "\n",
    "table = {\n",
    "    \"\": [\"MSE_train\", \"MSE_test\", \"RMSE_train\", \"RMSE_test\", \"R2_train\", \"R2_test\"],\n",
    "    \"Fold1\": [MSE_Ridge[\"train\"][0], MSE_Ridge[\"test\"][0], RMSE_Ridge[\"train\"][0], RMSE_Ridge[\"test\"][0], R2_Ridge[\"train\"][0], R2_Ridge[\"test\"][0]],\n",
    "    \"Fold2\": [MSE_Ridge[\"train\"][1], MSE_Ridge[\"test\"][1], RMSE_Ridge[\"train\"][1], RMSE_Ridge[\"test\"][1], R2_Ridge[\"train\"][1], R2_Ridge[\"test\"][1]],\n",
    "    \"Fold3\": [MSE_Ridge[\"train\"][2], MSE_Ridge[\"test\"][2], RMSE_Ridge[\"train\"][2], RMSE_Ridge[\"test\"][2], R2_Ridge[\"train\"][2], R2_Ridge[\"test\"][2]],\n",
    "    \"Fold4\": [MSE_Ridge[\"train\"][3], MSE_Ridge[\"test\"][3], RMSE_Ridge[\"train\"][3], RMSE_Ridge[\"test\"][3], R2_Ridge[\"train\"][3], R2_Ridge[\"test\"][3]],\n",
    "    \"Fold5\": [MSE_Ridge[\"train\"][4], MSE_Ridge[\"test\"][4], RMSE_Ridge[\"train\"][4], RMSE_Ridge[\"test\"][4], R2_Ridge[\"train\"][4], R2_Ridge[\"test\"][4]],\n",
    "    \"STD\":   [np.std(MSE_Ridge[\"train\"]), np.std(MSE_Ridge[\"test\"]), np.std(RMSE_Ridge[\"train\"]), np.std(RMSE_Ridge[\"test\"]), np.std(R2_Ridge[\"train\"]), np.std(R2_Ridge[\"test\"])],\n",
    "    \"E\": [np.mean(MSE_Ridge[\"train\"]), np.mean(MSE_Ridge[\"test\"]), np.mean(RMSE_Ridge[\"train\"]), np.mean(RMSE_Ridge[\"test\"]), np.mean(R2_Ridge[\"train\"]), np.mean(R2_Ridge[\"test\"])],\n",
    "}\n",
    "\n",
    "print(\"\\n\\n\\nТаблица кросс-валидации для модели Ridge\")\n",
    "print(pd.DataFrame(data=table))"
   ]
  },
  {
   "cell_type": "markdown",
   "id": "2f671e96",
   "metadata": {},
   "source": [
    "При кросс-валидации наблюдаются похожие результаты: модель Ridge дает более точные предсказания и лучше описывает результаты. При кросс-валидации реализованная модель сильнее проигрывает Ridge в точности предсказаний."
   ]
  },
  {
   "cell_type": "code",
   "execution_count": 58,
   "id": "2d281f07",
   "metadata": {},
   "outputs": [
    {
     "data": {
      "text/plain": [
       "([inf, 0.0743, inf, 0.2640, -inf, 0.6619],)"
      ]
     },
     "execution_count": 58,
     "metadata": {},
     "output_type": "execute_result"
    }
   ],
   "source": [
    "[np.mean(MSE_Ridge[\"train\"]), np.mean(MSE_Ridge[\"test\"]), np.mean(RMSE_Ridge[\"train\"]), np.mean(RMSE_Ridge[\"test\"]), np.mean(R2_Ridge[\"train\"]), np.mean(R2_Ridge[\"test\"])],"
   ]
  }
 ],
 "metadata": {
  "kernelspec": {
   "display_name": "Python 3 (ipykernel)",
   "language": "python",
   "name": "python3"
  },
  "language_info": {
   "codemirror_mode": {
    "name": "ipython",
    "version": 3
   },
   "file_extension": ".py",
   "mimetype": "text/x-python",
   "name": "python",
   "nbconvert_exporter": "python",
   "pygments_lexer": "ipython3",
   "version": "3.10.2"
  }
 },
 "nbformat": 4,
 "nbformat_minor": 5
}
