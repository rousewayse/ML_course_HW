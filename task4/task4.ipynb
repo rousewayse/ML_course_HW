{
 "cells": [
  {
   "cell_type": "markdown",
   "id": "3961d71c",
   "metadata": {},
   "source": [
    "* Выполняемое задание -- Задание 4 \"Ансамбли\"\n",
    "* Студент: Шеверев Сергей Вячеславови, 22М-05ММ\n",
    "* Все пункты обязательной части задания, и дополнительные пункты: (XGBoost, LightGBM и CatBoost,  Optuna)\n"
   ]
  },
  {
   "cell_type": "code",
   "execution_count": 1,
   "id": "fb49955c",
   "metadata": {},
   "outputs": [],
   "source": [
    "import numpy as np \n",
    "import pandas as pd\n",
    "import matplotlib.pyplot as plt\n",
    "%matplotlib inline\n",
    "import seaborn as sns\n",
    "\n",
    "# устанавливаем точность чисел с плавающей точкой\n",
    "%precision %.4f\n",
    "\n",
    "import warnings\n",
    "warnings.filterwarnings('ignore')  # отключаем предупреждения"
   ]
  },
  {
   "cell_type": "markdown",
   "id": "19e9c100",
   "metadata": {},
   "source": [
    "### Dataset\n",
    "Описание признаков:\n",
    "- Unnamed 0 -- Порядковый номер записи в датасете\n",
    "- id -- уникальный идентификатор пассажира\n",
    "- Customer Type -- уровень лояльности пассажира\n",
    "- Age -- возраст пассажира \n",
    "- Type of Travel -- назначение перелета\n",
    "- Class -- класс билета пасажира \n",
    "- Flight Distance -- расстояние перелета\n",
    "- Inflight wifi service -- уровень удовлетворенности пассажира качеством wifi-сигнала на борту судна\n",
    "- Departure/Arrival time convinient -- уровень удобности времени взлета и приземления\n",
    "- Ease of Online booking -- уровень удовлетворенности сервиса онлайн бронирования билетов \n",
    "- Gate location -- уровень удобности расположения выхода на посадку\n",
    "- Food and drink -- уровень удовлетворенности пасажира едой и напитками в салоне\n",
    "- Online boarding -- уровень удовлетворенности пасажира сервисом регистрации на рейс\n",
    "- Seat comfort -- уровень удовлетворенности пасажира удобности кресла\n",
    "- Inflight entertainment -- уровень удовлетворенности пасажира развлечениями на борту\n",
    "- On-board service -- уровень удовлетворенности пасажира обслуживанием на борту\n",
    "- Leg room service --  уровень удовлетворенности пасажира свободным местом для ног\n",
    "- Baggage handling -- уровень удовлетворенности пасажира обработкой багажа\n",
    "- Check-in service -- уровень удовлетворенности пасажира процессом регистрации\n",
    "- Inflight service -- уровень удовлетворенности пасажира качеством обслуживания в полете\n",
    "- Cleanliness -- уровень удовлетворенности пасажира чистотой на борту\n",
    "- Departure Delay in Minutes -- задержка вылета рейса в минутах\n",
    "- Arrival Delay in Minutes -- задержка прибытия в минутах\n",
    "- Satisfaction -- **целевой признак** общей лояльности клиента\n",
    "\n",
    "Загрузим датасет: "
   ]
  },
  {
   "cell_type": "code",
   "execution_count": 50,
   "id": "f2215e9d",
   "metadata": {},
   "outputs": [
    {
     "data": {
      "text/html": [
       "<div>\n",
       "<style scoped>\n",
       "    .dataframe tbody tr th:only-of-type {\n",
       "        vertical-align: middle;\n",
       "    }\n",
       "\n",
       "    .dataframe tbody tr th {\n",
       "        vertical-align: top;\n",
       "    }\n",
       "\n",
       "    .dataframe thead th {\n",
       "        text-align: right;\n",
       "    }\n",
       "</style>\n",
       "<table border=\"1\" class=\"dataframe\">\n",
       "  <thead>\n",
       "    <tr style=\"text-align: right;\">\n",
       "      <th></th>\n",
       "      <th>Unnamed: 0</th>\n",
       "      <th>id</th>\n",
       "      <th>Gender</th>\n",
       "      <th>Customer Type</th>\n",
       "      <th>Age</th>\n",
       "      <th>Type of Travel</th>\n",
       "      <th>Class</th>\n",
       "      <th>Flight Distance</th>\n",
       "      <th>Inflight wifi service</th>\n",
       "      <th>Departure/Arrival time convenient</th>\n",
       "      <th>...</th>\n",
       "      <th>Inflight entertainment</th>\n",
       "      <th>On-board service</th>\n",
       "      <th>Leg room service</th>\n",
       "      <th>Baggage handling</th>\n",
       "      <th>Checkin service</th>\n",
       "      <th>Inflight service</th>\n",
       "      <th>Cleanliness</th>\n",
       "      <th>Departure Delay in Minutes</th>\n",
       "      <th>Arrival Delay in Minutes</th>\n",
       "      <th>satisfaction</th>\n",
       "    </tr>\n",
       "  </thead>\n",
       "  <tbody>\n",
       "    <tr>\n",
       "      <th>0</th>\n",
       "      <td>0</td>\n",
       "      <td>19556</td>\n",
       "      <td>Female</td>\n",
       "      <td>Loyal Customer</td>\n",
       "      <td>52</td>\n",
       "      <td>Business travel</td>\n",
       "      <td>Eco</td>\n",
       "      <td>160</td>\n",
       "      <td>5</td>\n",
       "      <td>4</td>\n",
       "      <td>...</td>\n",
       "      <td>5</td>\n",
       "      <td>5</td>\n",
       "      <td>5</td>\n",
       "      <td>5</td>\n",
       "      <td>2</td>\n",
       "      <td>5</td>\n",
       "      <td>5</td>\n",
       "      <td>50</td>\n",
       "      <td>44.0</td>\n",
       "      <td>satisfied</td>\n",
       "    </tr>\n",
       "    <tr>\n",
       "      <th>1</th>\n",
       "      <td>1</td>\n",
       "      <td>90035</td>\n",
       "      <td>Female</td>\n",
       "      <td>Loyal Customer</td>\n",
       "      <td>36</td>\n",
       "      <td>Business travel</td>\n",
       "      <td>Business</td>\n",
       "      <td>2863</td>\n",
       "      <td>1</td>\n",
       "      <td>1</td>\n",
       "      <td>...</td>\n",
       "      <td>4</td>\n",
       "      <td>4</td>\n",
       "      <td>4</td>\n",
       "      <td>4</td>\n",
       "      <td>3</td>\n",
       "      <td>4</td>\n",
       "      <td>5</td>\n",
       "      <td>0</td>\n",
       "      <td>0.0</td>\n",
       "      <td>satisfied</td>\n",
       "    </tr>\n",
       "    <tr>\n",
       "      <th>2</th>\n",
       "      <td>2</td>\n",
       "      <td>12360</td>\n",
       "      <td>Male</td>\n",
       "      <td>disloyal Customer</td>\n",
       "      <td>20</td>\n",
       "      <td>Business travel</td>\n",
       "      <td>Eco</td>\n",
       "      <td>192</td>\n",
       "      <td>2</td>\n",
       "      <td>0</td>\n",
       "      <td>...</td>\n",
       "      <td>2</td>\n",
       "      <td>4</td>\n",
       "      <td>1</td>\n",
       "      <td>3</td>\n",
       "      <td>2</td>\n",
       "      <td>2</td>\n",
       "      <td>2</td>\n",
       "      <td>0</td>\n",
       "      <td>0.0</td>\n",
       "      <td>neutral or dissatisfied</td>\n",
       "    </tr>\n",
       "    <tr>\n",
       "      <th>3</th>\n",
       "      <td>3</td>\n",
       "      <td>77959</td>\n",
       "      <td>Male</td>\n",
       "      <td>Loyal Customer</td>\n",
       "      <td>44</td>\n",
       "      <td>Business travel</td>\n",
       "      <td>Business</td>\n",
       "      <td>3377</td>\n",
       "      <td>0</td>\n",
       "      <td>0</td>\n",
       "      <td>...</td>\n",
       "      <td>1</td>\n",
       "      <td>1</td>\n",
       "      <td>1</td>\n",
       "      <td>1</td>\n",
       "      <td>3</td>\n",
       "      <td>1</td>\n",
       "      <td>4</td>\n",
       "      <td>0</td>\n",
       "      <td>6.0</td>\n",
       "      <td>satisfied</td>\n",
       "    </tr>\n",
       "    <tr>\n",
       "      <th>4</th>\n",
       "      <td>4</td>\n",
       "      <td>36875</td>\n",
       "      <td>Female</td>\n",
       "      <td>Loyal Customer</td>\n",
       "      <td>49</td>\n",
       "      <td>Business travel</td>\n",
       "      <td>Eco</td>\n",
       "      <td>1182</td>\n",
       "      <td>2</td>\n",
       "      <td>3</td>\n",
       "      <td>...</td>\n",
       "      <td>2</td>\n",
       "      <td>2</td>\n",
       "      <td>2</td>\n",
       "      <td>2</td>\n",
       "      <td>4</td>\n",
       "      <td>2</td>\n",
       "      <td>4</td>\n",
       "      <td>0</td>\n",
       "      <td>20.0</td>\n",
       "      <td>satisfied</td>\n",
       "    </tr>\n",
       "  </tbody>\n",
       "</table>\n",
       "<p>5 rows × 25 columns</p>\n",
       "</div>"
      ],
      "text/plain": [
       "   Unnamed: 0     id  Gender      Customer Type  Age   Type of Travel  \\\n",
       "0           0  19556  Female     Loyal Customer   52  Business travel   \n",
       "1           1  90035  Female     Loyal Customer   36  Business travel   \n",
       "2           2  12360    Male  disloyal Customer   20  Business travel   \n",
       "3           3  77959    Male     Loyal Customer   44  Business travel   \n",
       "4           4  36875  Female     Loyal Customer   49  Business travel   \n",
       "\n",
       "      Class  Flight Distance  Inflight wifi service  \\\n",
       "0       Eco              160                      5   \n",
       "1  Business             2863                      1   \n",
       "2       Eco              192                      2   \n",
       "3  Business             3377                      0   \n",
       "4       Eco             1182                      2   \n",
       "\n",
       "   Departure/Arrival time convenient  ...  Inflight entertainment  \\\n",
       "0                                  4  ...                       5   \n",
       "1                                  1  ...                       4   \n",
       "2                                  0  ...                       2   \n",
       "3                                  0  ...                       1   \n",
       "4                                  3  ...                       2   \n",
       "\n",
       "   On-board service  Leg room service  Baggage handling  Checkin service  \\\n",
       "0                 5                 5                 5                2   \n",
       "1                 4                 4                 4                3   \n",
       "2                 4                 1                 3                2   \n",
       "3                 1                 1                 1                3   \n",
       "4                 2                 2                 2                4   \n",
       "\n",
       "   Inflight service  Cleanliness  Departure Delay in Minutes  \\\n",
       "0                 5            5                          50   \n",
       "1                 4            5                           0   \n",
       "2                 2            2                           0   \n",
       "3                 1            4                           0   \n",
       "4                 2            4                           0   \n",
       "\n",
       "   Arrival Delay in Minutes             satisfaction  \n",
       "0                      44.0                satisfied  \n",
       "1                       0.0                satisfied  \n",
       "2                       0.0  neutral or dissatisfied  \n",
       "3                       6.0                satisfied  \n",
       "4                      20.0                satisfied  \n",
       "\n",
       "[5 rows x 25 columns]"
      ]
     },
     "execution_count": 50,
     "metadata": {},
     "output_type": "execute_result"
    }
   ],
   "source": [
    "df = pd.read_csv('test.csv')\n",
    "df.head()"
   ]
  },
  {
   "cell_type": "markdown",
   "id": "a3ec2e0b",
   "metadata": {},
   "source": [
    "Проверим, удовлетворяет ли данный датасет критерию на количество записей:"
   ]
  },
  {
   "cell_type": "code",
   "execution_count": 51,
   "id": "c9d6bd40",
   "metadata": {},
   "outputs": [
    {
     "name": "stdout",
     "output_type": "stream",
     "text": [
      "True\n",
      "Всего записей в датасете: 25976\n"
     ]
    }
   ],
   "source": [
    "print(df.count()[0] > 10000)\n",
    "print(f\"Всего записей в датасете: {df.count()[0]}\")"
   ]
  },
  {
   "cell_type": "markdown",
   "id": "03e89171",
   "metadata": {},
   "source": [
    "Видно, что первая колонка -- это просто номер записи в датасете, она не несет никакой информации, как и поле **id**. Удалим их."
   ]
  },
  {
   "cell_type": "code",
   "execution_count": 52,
   "id": "080b40d5",
   "metadata": {},
   "outputs": [],
   "source": [
    "df.drop(columns = list(df.columns)[:2], inplace=True)"
   ]
  },
  {
   "cell_type": "markdown",
   "id": "911c15c4",
   "metadata": {},
   "source": [
    "Проверим датасет на наличие незаполненных полей:"
   ]
  },
  {
   "cell_type": "code",
   "execution_count": 53,
   "id": "ed782c21",
   "metadata": {},
   "outputs": [
    {
     "data": {
      "text/plain": [
       "Gender                                0\n",
       "Customer Type                         0\n",
       "Age                                   0\n",
       "Type of Travel                        0\n",
       "Class                                 0\n",
       "Flight Distance                       0\n",
       "Inflight wifi service                 0\n",
       "Departure/Arrival time convenient     0\n",
       "Ease of Online booking                0\n",
       "Gate location                         0\n",
       "Food and drink                        0\n",
       "Online boarding                       0\n",
       "Seat comfort                          0\n",
       "Inflight entertainment                0\n",
       "On-board service                      0\n",
       "Leg room service                      0\n",
       "Baggage handling                      0\n",
       "Checkin service                       0\n",
       "Inflight service                      0\n",
       "Cleanliness                           0\n",
       "Departure Delay in Minutes            0\n",
       "Arrival Delay in Minutes             83\n",
       "satisfaction                          0\n",
       "dtype: int64"
      ]
     },
     "execution_count": 53,
     "metadata": {},
     "output_type": "execute_result"
    }
   ],
   "source": [
    "df.isnull().sum()"
   ]
  },
  {
   "cell_type": "markdown",
   "id": "e4e20ba4",
   "metadata": {},
   "source": [
    "Поле **Arrival Delay in Minutes** имеет незаполненные значения. Таких значений крайне мало. Удалим их в таком случае:"
   ]
  },
  {
   "cell_type": "code",
   "execution_count": 63,
   "id": "b06aea68",
   "metadata": {},
   "outputs": [],
   "source": [
    "df.drop(df[df[\"Arrival Delay in Minutes\"].isnull()].index, inplace = True)"
   ]
  },
  {
   "cell_type": "markdown",
   "id": "db0a3165",
   "metadata": {},
   "source": [
    "Объединим признаки **Departure Delay in Minutes** и **Arrival Delay in Minutes**, посчитаем их сумму: "
   ]
  },
  {
   "cell_type": "code",
   "execution_count": 70,
   "id": "7edc0fdb",
   "metadata": {},
   "outputs": [],
   "source": [
    "df[\"Delay in Minutes\"] =  df[\"Departure Delay in Minutes\"] + df[\"Arrival Delay in Minutes\"]\n",
    "df.drop([\"Departure Delay in Minutes\", \"Arrival Delay in Minutes\"], axis=1, inplace=True)"
   ]
  },
  {
   "cell_type": "code",
   "execution_count": 71,
   "id": "c49928ec",
   "metadata": {},
   "outputs": [
    {
     "data": {
      "text/html": [
       "<div>\n",
       "<style scoped>\n",
       "    .dataframe tbody tr th:only-of-type {\n",
       "        vertical-align: middle;\n",
       "    }\n",
       "\n",
       "    .dataframe tbody tr th {\n",
       "        vertical-align: top;\n",
       "    }\n",
       "\n",
       "    .dataframe thead th {\n",
       "        text-align: right;\n",
       "    }\n",
       "</style>\n",
       "<table border=\"1\" class=\"dataframe\">\n",
       "  <thead>\n",
       "    <tr style=\"text-align: right;\">\n",
       "      <th></th>\n",
       "      <th>Gender</th>\n",
       "      <th>Customer Type</th>\n",
       "      <th>Age</th>\n",
       "      <th>Type of Travel</th>\n",
       "      <th>Class</th>\n",
       "      <th>Flight Distance</th>\n",
       "      <th>Inflight wifi service</th>\n",
       "      <th>Departure/Arrival time convenient</th>\n",
       "      <th>Ease of Online booking</th>\n",
       "      <th>Gate location</th>\n",
       "      <th>...</th>\n",
       "      <th>Seat comfort</th>\n",
       "      <th>Inflight entertainment</th>\n",
       "      <th>On-board service</th>\n",
       "      <th>Leg room service</th>\n",
       "      <th>Baggage handling</th>\n",
       "      <th>Checkin service</th>\n",
       "      <th>Inflight service</th>\n",
       "      <th>Cleanliness</th>\n",
       "      <th>satisfaction</th>\n",
       "      <th>Delay in Minutes</th>\n",
       "    </tr>\n",
       "  </thead>\n",
       "  <tbody>\n",
       "    <tr>\n",
       "      <th>0</th>\n",
       "      <td>Female</td>\n",
       "      <td>Loyal Customer</td>\n",
       "      <td>52</td>\n",
       "      <td>Business travel</td>\n",
       "      <td>Eco</td>\n",
       "      <td>160</td>\n",
       "      <td>5</td>\n",
       "      <td>4</td>\n",
       "      <td>3</td>\n",
       "      <td>4</td>\n",
       "      <td>...</td>\n",
       "      <td>3</td>\n",
       "      <td>5</td>\n",
       "      <td>5</td>\n",
       "      <td>5</td>\n",
       "      <td>5</td>\n",
       "      <td>2</td>\n",
       "      <td>5</td>\n",
       "      <td>5</td>\n",
       "      <td>satisfied</td>\n",
       "      <td>94.0</td>\n",
       "    </tr>\n",
       "    <tr>\n",
       "      <th>1</th>\n",
       "      <td>Female</td>\n",
       "      <td>Loyal Customer</td>\n",
       "      <td>36</td>\n",
       "      <td>Business travel</td>\n",
       "      <td>Business</td>\n",
       "      <td>2863</td>\n",
       "      <td>1</td>\n",
       "      <td>1</td>\n",
       "      <td>3</td>\n",
       "      <td>1</td>\n",
       "      <td>...</td>\n",
       "      <td>5</td>\n",
       "      <td>4</td>\n",
       "      <td>4</td>\n",
       "      <td>4</td>\n",
       "      <td>4</td>\n",
       "      <td>3</td>\n",
       "      <td>4</td>\n",
       "      <td>5</td>\n",
       "      <td>satisfied</td>\n",
       "      <td>0.0</td>\n",
       "    </tr>\n",
       "    <tr>\n",
       "      <th>2</th>\n",
       "      <td>Male</td>\n",
       "      <td>disloyal Customer</td>\n",
       "      <td>20</td>\n",
       "      <td>Business travel</td>\n",
       "      <td>Eco</td>\n",
       "      <td>192</td>\n",
       "      <td>2</td>\n",
       "      <td>0</td>\n",
       "      <td>2</td>\n",
       "      <td>4</td>\n",
       "      <td>...</td>\n",
       "      <td>2</td>\n",
       "      <td>2</td>\n",
       "      <td>4</td>\n",
       "      <td>1</td>\n",
       "      <td>3</td>\n",
       "      <td>2</td>\n",
       "      <td>2</td>\n",
       "      <td>2</td>\n",
       "      <td>neutral or dissatisfied</td>\n",
       "      <td>0.0</td>\n",
       "    </tr>\n",
       "    <tr>\n",
       "      <th>3</th>\n",
       "      <td>Male</td>\n",
       "      <td>Loyal Customer</td>\n",
       "      <td>44</td>\n",
       "      <td>Business travel</td>\n",
       "      <td>Business</td>\n",
       "      <td>3377</td>\n",
       "      <td>0</td>\n",
       "      <td>0</td>\n",
       "      <td>0</td>\n",
       "      <td>2</td>\n",
       "      <td>...</td>\n",
       "      <td>4</td>\n",
       "      <td>1</td>\n",
       "      <td>1</td>\n",
       "      <td>1</td>\n",
       "      <td>1</td>\n",
       "      <td>3</td>\n",
       "      <td>1</td>\n",
       "      <td>4</td>\n",
       "      <td>satisfied</td>\n",
       "      <td>6.0</td>\n",
       "    </tr>\n",
       "    <tr>\n",
       "      <th>4</th>\n",
       "      <td>Female</td>\n",
       "      <td>Loyal Customer</td>\n",
       "      <td>49</td>\n",
       "      <td>Business travel</td>\n",
       "      <td>Eco</td>\n",
       "      <td>1182</td>\n",
       "      <td>2</td>\n",
       "      <td>3</td>\n",
       "      <td>4</td>\n",
       "      <td>3</td>\n",
       "      <td>...</td>\n",
       "      <td>2</td>\n",
       "      <td>2</td>\n",
       "      <td>2</td>\n",
       "      <td>2</td>\n",
       "      <td>2</td>\n",
       "      <td>4</td>\n",
       "      <td>2</td>\n",
       "      <td>4</td>\n",
       "      <td>satisfied</td>\n",
       "      <td>20.0</td>\n",
       "    </tr>\n",
       "  </tbody>\n",
       "</table>\n",
       "<p>5 rows × 22 columns</p>\n",
       "</div>"
      ],
      "text/plain": [
       "   Gender      Customer Type  Age   Type of Travel     Class  Flight Distance  \\\n",
       "0  Female     Loyal Customer   52  Business travel       Eco              160   \n",
       "1  Female     Loyal Customer   36  Business travel  Business             2863   \n",
       "2    Male  disloyal Customer   20  Business travel       Eco              192   \n",
       "3    Male     Loyal Customer   44  Business travel  Business             3377   \n",
       "4  Female     Loyal Customer   49  Business travel       Eco             1182   \n",
       "\n",
       "   Inflight wifi service  Departure/Arrival time convenient  \\\n",
       "0                      5                                  4   \n",
       "1                      1                                  1   \n",
       "2                      2                                  0   \n",
       "3                      0                                  0   \n",
       "4                      2                                  3   \n",
       "\n",
       "   Ease of Online booking  Gate location  ...  Seat comfort  \\\n",
       "0                       3              4  ...             3   \n",
       "1                       3              1  ...             5   \n",
       "2                       2              4  ...             2   \n",
       "3                       0              2  ...             4   \n",
       "4                       4              3  ...             2   \n",
       "\n",
       "   Inflight entertainment  On-board service  Leg room service  \\\n",
       "0                       5                 5                 5   \n",
       "1                       4                 4                 4   \n",
       "2                       2                 4                 1   \n",
       "3                       1                 1                 1   \n",
       "4                       2                 2                 2   \n",
       "\n",
       "   Baggage handling  Checkin service  Inflight service  Cleanliness  \\\n",
       "0                 5                2                 5            5   \n",
       "1                 4                3                 4            5   \n",
       "2                 3                2                 2            2   \n",
       "3                 1                3                 1            4   \n",
       "4                 2                4                 2            4   \n",
       "\n",
       "              satisfaction  Delay in Minutes  \n",
       "0                satisfied              94.0  \n",
       "1                satisfied               0.0  \n",
       "2  neutral or dissatisfied               0.0  \n",
       "3                satisfied               6.0  \n",
       "4                satisfied              20.0  \n",
       "\n",
       "[5 rows x 22 columns]"
      ]
     },
     "execution_count": 71,
     "metadata": {},
     "output_type": "execute_result"
    }
   ],
   "source": [
    "df.head()"
   ]
  },
  {
   "cell_type": "markdown",
   "id": "fbfeb0ad",
   "metadata": {},
   "source": [
    "Какие значения принимает целевой признак?"
   ]
  },
  {
   "cell_type": "code",
   "execution_count": 81,
   "id": "a91e5d60",
   "metadata": {},
   "outputs": [
    {
     "data": {
      "text/plain": [
       "array(['satisfied', 'neutral or dissatisfied'], dtype=object)"
      ]
     },
     "execution_count": 81,
     "metadata": {},
     "output_type": "execute_result"
    }
   ],
   "source": [
    "df['satisfaction'].unique()"
   ]
  },
  {
   "cell_type": "markdown",
   "id": "5e93114b",
   "metadata": {},
   "source": [
    "Кажется, что целевой признак -- бинарный:"
   ]
  },
  {
   "cell_type": "code",
   "execution_count": 82,
   "id": "854519c5",
   "metadata": {},
   "outputs": [],
   "source": [
    "df[\"satisfaction\"] = df[\"satisfaction\"].apply(lambda x: 1 if x == \"satisfied\" else 0)"
   ]
  },
  {
   "cell_type": "markdown",
   "id": "fc4e8956",
   "metadata": {},
   "source": [
    "Посмотрим на корреляцию числовых признаков:"
   ]
  },
  {
   "cell_type": "code",
   "execution_count": 86,
   "id": "95e117fc",
   "metadata": {},
   "outputs": [
    {
     "data": {
      "image/png": "[encoded data removed]",
      "text/plain": [
       "<Figure size 864x864 with 2 Axes>"
      ]
     },
     "metadata": {
      "needs_background": "light"
     },
     "output_type": "display_data"
    }
   ],
   "source": [
    "numeric_features = ['Age','Flight Distance',\n",
    "                    'Inflight wifi service',\n",
    "                    'Departure/Arrival time convenient',\n",
    "                    'Ease of Online booking',\n",
    "                    'Gate location', \n",
    "                    'Food and drink', \n",
    "                    'Online boarding',\n",
    "                    'Seat comfort',\n",
    "                    'Inflight entertainment',\n",
    "                    'On-board service',\n",
    "                    'Leg room service',\n",
    "                    'Baggage handling',\n",
    "                    'Checkin service',\n",
    "                    'Inflight service',\n",
    "                    'Cleanliness',\n",
    "                    'Delay in Minutes',\n",
    "                    'satisfaction']\n",
    "plt.figure(figsize=(12, 12))\n",
    "sns.heatmap(df.corr()[numeric_features], annot=True, fmt='.1f', linewidths=.5, cmap='coolwarm')\n",
    "plt.show()"
   ]
  },
  {
   "cell_type": "markdown",
   "id": "409d7bd1",
   "metadata": {},
   "source": [
    "Видно, что малое количество признаков сильно коррелируют. Можно выделить следующие:\n",
    "- **Inflight wifi service** коррелирует с **Online boarding** и с **Ease of Online booking**\n",
    "- **Departure/Arrival time convenient** коррелирует с **Gate Location** и с **Ease of online booking**\n",
    "- **Food and Drink** коррелирует с **Seat comfort**, **Inflight entertainment**, **Clearness**\n",
    "- **Online boarding** коррелирует с **Seat comfort** и с целевым признаком  **satisfaction**\n",
    "- **Inflight entertainment** коррелирует с **On-board service**, **Baggage handling**, **Inflight service**, целевым признаком **satisfaction**\n",
    "- **On-board service** коррелирует с **Leg room service**\n",
    "- **Leg room service** коррелирует с **Inflight service**"
   ]
  },
  {
   "cell_type": "code",
   "execution_count": 92,
   "id": "378e0f3f",
   "metadata": {},
   "outputs": [
    {
     "data": {
      "text/html": [
       "<div>\n",
       "<style scoped>\n",
       "    .dataframe tbody tr th:only-of-type {\n",
       "        vertical-align: middle;\n",
       "    }\n",
       "\n",
       "    .dataframe tbody tr th {\n",
       "        vertical-align: top;\n",
       "    }\n",
       "\n",
       "    .dataframe thead th {\n",
       "        text-align: right;\n",
       "    }\n",
       "</style>\n",
       "<table border=\"1\" class=\"dataframe\">\n",
       "  <thead>\n",
       "    <tr style=\"text-align: right;\">\n",
       "      <th></th>\n",
       "      <th>Gender</th>\n",
       "      <th>Customer Type</th>\n",
       "      <th>Type of Travel</th>\n",
       "      <th>Class</th>\n",
       "    </tr>\n",
       "  </thead>\n",
       "  <tbody>\n",
       "    <tr>\n",
       "      <th>0</th>\n",
       "      <td>Female</td>\n",
       "      <td>Loyal Customer</td>\n",
       "      <td>Business travel</td>\n",
       "      <td>Eco</td>\n",
       "    </tr>\n",
       "    <tr>\n",
       "      <th>1</th>\n",
       "      <td>Female</td>\n",
       "      <td>Loyal Customer</td>\n",
       "      <td>Business travel</td>\n",
       "      <td>Business</td>\n",
       "    </tr>\n",
       "    <tr>\n",
       "      <th>2</th>\n",
       "      <td>Male</td>\n",
       "      <td>disloyal Customer</td>\n",
       "      <td>Business travel</td>\n",
       "      <td>Eco</td>\n",
       "    </tr>\n",
       "    <tr>\n",
       "      <th>3</th>\n",
       "      <td>Male</td>\n",
       "      <td>Loyal Customer</td>\n",
       "      <td>Business travel</td>\n",
       "      <td>Business</td>\n",
       "    </tr>\n",
       "    <tr>\n",
       "      <th>4</th>\n",
       "      <td>Female</td>\n",
       "      <td>Loyal Customer</td>\n",
       "      <td>Business travel</td>\n",
       "      <td>Eco</td>\n",
       "    </tr>\n",
       "    <tr>\n",
       "      <th>...</th>\n",
       "      <td>...</td>\n",
       "      <td>...</td>\n",
       "      <td>...</td>\n",
       "      <td>...</td>\n",
       "    </tr>\n",
       "    <tr>\n",
       "      <th>25971</th>\n",
       "      <td>Male</td>\n",
       "      <td>disloyal Customer</td>\n",
       "      <td>Business travel</td>\n",
       "      <td>Business</td>\n",
       "    </tr>\n",
       "    <tr>\n",
       "      <th>25972</th>\n",
       "      <td>Male</td>\n",
       "      <td>Loyal Customer</td>\n",
       "      <td>Business travel</td>\n",
       "      <td>Business</td>\n",
       "    </tr>\n",
       "    <tr>\n",
       "      <th>25973</th>\n",
       "      <td>Female</td>\n",
       "      <td>Loyal Customer</td>\n",
       "      <td>Personal Travel</td>\n",
       "      <td>Eco</td>\n",
       "    </tr>\n",
       "    <tr>\n",
       "      <th>25974</th>\n",
       "      <td>Male</td>\n",
       "      <td>Loyal Customer</td>\n",
       "      <td>Business travel</td>\n",
       "      <td>Business</td>\n",
       "    </tr>\n",
       "    <tr>\n",
       "      <th>25975</th>\n",
       "      <td>Female</td>\n",
       "      <td>Loyal Customer</td>\n",
       "      <td>Personal Travel</td>\n",
       "      <td>Eco</td>\n",
       "    </tr>\n",
       "  </tbody>\n",
       "</table>\n",
       "<p>25893 rows × 4 columns</p>\n",
       "</div>"
      ],
      "text/plain": [
       "       Gender      Customer Type   Type of Travel     Class\n",
       "0      Female     Loyal Customer  Business travel       Eco\n",
       "1      Female     Loyal Customer  Business travel  Business\n",
       "2        Male  disloyal Customer  Business travel       Eco\n",
       "3        Male     Loyal Customer  Business travel  Business\n",
       "4      Female     Loyal Customer  Business travel       Eco\n",
       "...       ...                ...              ...       ...\n",
       "25971    Male  disloyal Customer  Business travel  Business\n",
       "25972    Male     Loyal Customer  Business travel  Business\n",
       "25973  Female     Loyal Customer  Personal Travel       Eco\n",
       "25974    Male     Loyal Customer  Business travel  Business\n",
       "25975  Female     Loyal Customer  Personal Travel       Eco\n",
       "\n",
       "[25893 rows x 4 columns]"
      ]
     },
     "execution_count": 92,
     "metadata": {},
     "output_type": "execute_result"
    }
   ],
   "source": [
    "cat_features = list(df.columns)\n",
    "for i in numeric_features:\n",
    "    cat_features.remove(i)\n",
    "df[cat_features]"
   ]
  },
  {
   "cell_type": "markdown",
   "id": "5363fd42",
   "metadata": {},
   "source": [
    "Признак **Gender**:"
   ]
  },
  {
   "cell_type": "code",
   "execution_count": 103,
   "id": "daab0dde",
   "metadata": {},
   "outputs": [
    {
     "data": {
      "image/png": "[encoded data removed]",
      "text/plain": [
       "<Figure size 720x360 with 1 Axes>"
      ]
     },
     "metadata": {
      "needs_background": "light"
     },
     "output_type": "display_data"
    },
    {
     "data": {
      "image/png": "[encoded data removed]",
      "text/plain": [
       "<Figure size 720x360 with 1 Axes>"
      ]
     },
     "metadata": {
      "needs_background": "light"
     },
     "output_type": "display_data"
    }
   ],
   "source": [
    "sns.countplot(data=df, x=\"Gender\")\n",
    "fig = plt.gcf()\n",
    "fig.set_size_inches(10, 5)\n",
    "plt.show()\n",
    "sns.catplot(data=df, x=\"Gender\", y=\"satisfaction\", kind=\"point\")\n",
    "fig = plt.gcf()\n",
    "fig.set_size_inches(10, 5)\n",
    "plt.show()"
   ]
  },
  {
   "cell_type": "markdown",
   "id": "0ad3b9ce",
   "metadata": {},
   "source": [
    "Видно, что  женщин и мужчин примерно одинаковое количество. Однако степень удовлетворенности полетом среди мужчин незначительно выше, чем у женщин."
   ]
  },
  {
   "cell_type": "markdown",
   "id": "42e25c47",
   "metadata": {},
   "source": [
    "Признак **Customer Type**:\n"
   ]
  },
  {
   "cell_type": "code",
   "execution_count": 107,
   "id": "bdaa4c77",
   "metadata": {},
   "outputs": [
    {
     "data": {
      "image/png": "[encoded data removed]",
      "text/plain": [
       "<Figure size 720x360 with 1 Axes>"
      ]
     },
     "metadata": {
      "needs_background": "light"
     },
     "output_type": "display_data"
    },
    {
     "data": {
      "image/png": "[encoded data removed]",
      "text/plain": [
       "<Figure size 720x360 with 1 Axes>"
      ]
     },
     "metadata": {
      "needs_background": "light"
     },
     "output_type": "display_data"
    }
   ],
   "source": [
    "sns.countplot(data=df, x=\"Customer Type\")\n",
    "fig = plt.gcf()\n",
    "fig.set_size_inches(10, 5)\n",
    "plt.show()\n",
    "sns.catplot(data=df, x=\"Customer Type\", y=\"satisfaction\", kind=\"point\")\n",
    "fig = plt.gcf()\n",
    "fig.set_size_inches(10, 5)\n",
    "plt.show()"
   ]
  },
  {
   "cell_type": "markdown",
   "id": "d8928b65",
   "metadata": {},
   "source": [
    "Лояльных клиентов значительно больше, среди нелояльных высока вероятность того, что они не удовлетворены полетом."
   ]
  },
  {
   "cell_type": "markdown",
   "id": "aa48d2cc",
   "metadata": {},
   "source": [
    "Признак **Type of Travel**:"
   ]
  },
  {
   "cell_type": "code",
   "execution_count": 108,
   "id": "57365ab9",
   "metadata": {},
   "outputs": [
    {
     "data": {
      "image/png": "[encoded data removed]",
      "text/plain": [
       "<Figure size 720x360 with 1 Axes>"
      ]
     },
     "metadata": {
      "needs_background": "light"
     },
     "output_type": "display_data"
    },
    {
     "data": {
      "image/png": "[encoded data removed]",
      "text/plain": [
       "<Figure size 720x360 with 1 Axes>"
      ]
     },
     "metadata": {
      "needs_background": "light"
     },
     "output_type": "display_data"
    }
   ],
   "source": [
    "sns.countplot(data=df, x=\"Type of Travel\")\n",
    "fig = plt.gcf()\n",
    "fig.set_size_inches(10, 5)\n",
    "plt.show()\n",
    "sns.catplot(data=df, x=\"Type of Travel\", y=\"satisfaction\", kind=\"point\")\n",
    "fig = plt.gcf()\n",
    "fig.set_size_inches(10, 5)\n",
    "plt.show()"
   ]
  },
  {
   "cell_type": "markdown",
   "id": "e2d97263",
   "metadata": {},
   "source": [
    "В данном датасете в основном содержатся данные о деловых перелетах. Можно сказать, что люди, летающие в личных целях, обычно более недовольные полетом."
   ]
  },
  {
   "cell_type": "markdown",
   "id": "66219ef2",
   "metadata": {},
   "source": [
    "Признак **Class**:"
   ]
  },
  {
   "cell_type": "code",
   "execution_count": 109,
   "id": "fa2a54fe",
   "metadata": {},
   "outputs": [
    {
     "data": {
      "image/png": "[encoded data removed]",
      "text/plain": [
       "<Figure size 720x360 with 1 Axes>"
      ]
     },
     "metadata": {
      "needs_background": "light"
     },
     "output_type": "display_data"
    },
    {
     "data": {
      "image/png": "[encoded data removed]",
      "text/plain": [
       "<Figure size 720x360 with 1 Axes>"
      ]
     },
     "metadata": {
      "needs_background": "light"
     },
     "output_type": "display_data"
    }
   ],
   "source": [
    "sns.countplot(data=df, x=\"Class\")\n",
    "fig = plt.gcf()\n",
    "fig.set_size_inches(10, 5)\n",
    "plt.show()\n",
    "sns.catplot(data=df, x=\"Class\", y=\"satisfaction\", kind=\"point\")\n",
    "fig = plt.gcf()\n",
    "fig.set_size_inches(10, 5)\n",
    "plt.show()"
   ]
  },
  {
   "cell_type": "markdown",
   "id": "fceb4675",
   "metadata": {},
   "source": [
    "Люди выбирают либо эконом-класс, либо Бизнесс-класс, малое количество пользуется промежуточным вариантом. Возникает ощущие, что экономичность билета сильно влияет на удовлетворенность пасажиров: чем дороже билет, тем более удовлетворен пасажир."
   ]
  },
  {
   "cell_type": "markdown",
   "id": "a2530205",
   "metadata": {},
   "source": [
    "Выполним некоторые дополнительные преобразования над данными:"
   ]
  },
  {
   "cell_type": "code",
   "execution_count": 113,
   "id": "141d2192",
   "metadata": {},
   "outputs": [],
   "source": [
    "df[\"Gender\"] = df[\"Gender\"].apply(lambda x: 0 if x == \"Female\" else 1)\n",
    "df[\"Customer Type\"]  = df[\"Customer Type\"].apply(lambda x: 1 if x == \"Loyal Customer\" else 1)\n",
    "df[\"Type of Travel\"] = df[\"Type of Travel\"].apply(lambda x: 1 if x == \"Business travel\" else 0)\n",
    "df[\"Class\"] = df[\"Class\"].apply(lambda x: 0 if x == \"Eco\" else 1 if x == \"Eco Plus\" else 2)"
   ]
  },
  {
   "cell_type": "markdown",
   "id": "fde05bf4",
   "metadata": {},
   "source": [
    "В том числе *One-hot encoding* для признака **Class**:\n"
   ]
  },
  {
   "cell_type": "code",
   "execution_count": 116,
   "id": "4a3ad373",
   "metadata": {},
   "outputs": [],
   "source": [
    "df = pd.get_dummies(df, prefix=[\"Class\"], columns=[\"Class\"])"
   ]
  },
  {
   "cell_type": "markdown",
   "id": "2f27c1f6",
   "metadata": {},
   "source": [
    "В результате получим: "
   ]
  },
  {
   "cell_type": "code",
   "execution_count": 118,
   "id": "01a09ef1",
   "metadata": {},
   "outputs": [
    {
     "data": {
      "text/html": [
       "<div>\n",
       "<style scoped>\n",
       "    .dataframe tbody tr th:only-of-type {\n",
       "        vertical-align: middle;\n",
       "    }\n",
       "\n",
       "    .dataframe tbody tr th {\n",
       "        vertical-align: top;\n",
       "    }\n",
       "\n",
       "    .dataframe thead th {\n",
       "        text-align: right;\n",
       "    }\n",
       "</style>\n",
       "<table border=\"1\" class=\"dataframe\">\n",
       "  <thead>\n",
       "    <tr style=\"text-align: right;\">\n",
       "      <th></th>\n",
       "      <th>Gender</th>\n",
       "      <th>Customer Type</th>\n",
       "      <th>Age</th>\n",
       "      <th>Type of Travel</th>\n",
       "      <th>Flight Distance</th>\n",
       "      <th>Inflight wifi service</th>\n",
       "      <th>Departure/Arrival time convenient</th>\n",
       "      <th>Ease of Online booking</th>\n",
       "      <th>Gate location</th>\n",
       "      <th>Food and drink</th>\n",
       "      <th>...</th>\n",
       "      <th>Leg room service</th>\n",
       "      <th>Baggage handling</th>\n",
       "      <th>Checkin service</th>\n",
       "      <th>Inflight service</th>\n",
       "      <th>Cleanliness</th>\n",
       "      <th>satisfaction</th>\n",
       "      <th>Delay in Minutes</th>\n",
       "      <th>Class_0</th>\n",
       "      <th>Class_1</th>\n",
       "      <th>Class_2</th>\n",
       "    </tr>\n",
       "  </thead>\n",
       "  <tbody>\n",
       "    <tr>\n",
       "      <th>0</th>\n",
       "      <td>0</td>\n",
       "      <td>1</td>\n",
       "      <td>52</td>\n",
       "      <td>1</td>\n",
       "      <td>160</td>\n",
       "      <td>5</td>\n",
       "      <td>4</td>\n",
       "      <td>3</td>\n",
       "      <td>4</td>\n",
       "      <td>3</td>\n",
       "      <td>...</td>\n",
       "      <td>5</td>\n",
       "      <td>5</td>\n",
       "      <td>2</td>\n",
       "      <td>5</td>\n",
       "      <td>5</td>\n",
       "      <td>1</td>\n",
       "      <td>94.0</td>\n",
       "      <td>1</td>\n",
       "      <td>0</td>\n",
       "      <td>0</td>\n",
       "    </tr>\n",
       "    <tr>\n",
       "      <th>1</th>\n",
       "      <td>0</td>\n",
       "      <td>1</td>\n",
       "      <td>36</td>\n",
       "      <td>1</td>\n",
       "      <td>2863</td>\n",
       "      <td>1</td>\n",
       "      <td>1</td>\n",
       "      <td>3</td>\n",
       "      <td>1</td>\n",
       "      <td>5</td>\n",
       "      <td>...</td>\n",
       "      <td>4</td>\n",
       "      <td>4</td>\n",
       "      <td>3</td>\n",
       "      <td>4</td>\n",
       "      <td>5</td>\n",
       "      <td>1</td>\n",
       "      <td>0.0</td>\n",
       "      <td>0</td>\n",
       "      <td>0</td>\n",
       "      <td>1</td>\n",
       "    </tr>\n",
       "    <tr>\n",
       "      <th>2</th>\n",
       "      <td>1</td>\n",
       "      <td>1</td>\n",
       "      <td>20</td>\n",
       "      <td>1</td>\n",
       "      <td>192</td>\n",
       "      <td>2</td>\n",
       "      <td>0</td>\n",
       "      <td>2</td>\n",
       "      <td>4</td>\n",
       "      <td>2</td>\n",
       "      <td>...</td>\n",
       "      <td>1</td>\n",
       "      <td>3</td>\n",
       "      <td>2</td>\n",
       "      <td>2</td>\n",
       "      <td>2</td>\n",
       "      <td>0</td>\n",
       "      <td>0.0</td>\n",
       "      <td>1</td>\n",
       "      <td>0</td>\n",
       "      <td>0</td>\n",
       "    </tr>\n",
       "    <tr>\n",
       "      <th>3</th>\n",
       "      <td>1</td>\n",
       "      <td>1</td>\n",
       "      <td>44</td>\n",
       "      <td>1</td>\n",
       "      <td>3377</td>\n",
       "      <td>0</td>\n",
       "      <td>0</td>\n",
       "      <td>0</td>\n",
       "      <td>2</td>\n",
       "      <td>3</td>\n",
       "      <td>...</td>\n",
       "      <td>1</td>\n",
       "      <td>1</td>\n",
       "      <td>3</td>\n",
       "      <td>1</td>\n",
       "      <td>4</td>\n",
       "      <td>1</td>\n",
       "      <td>6.0</td>\n",
       "      <td>0</td>\n",
       "      <td>0</td>\n",
       "      <td>1</td>\n",
       "    </tr>\n",
       "    <tr>\n",
       "      <th>4</th>\n",
       "      <td>0</td>\n",
       "      <td>1</td>\n",
       "      <td>49</td>\n",
       "      <td>1</td>\n",
       "      <td>1182</td>\n",
       "      <td>2</td>\n",
       "      <td>3</td>\n",
       "      <td>4</td>\n",
       "      <td>3</td>\n",
       "      <td>4</td>\n",
       "      <td>...</td>\n",
       "      <td>2</td>\n",
       "      <td>2</td>\n",
       "      <td>4</td>\n",
       "      <td>2</td>\n",
       "      <td>4</td>\n",
       "      <td>1</td>\n",
       "      <td>20.0</td>\n",
       "      <td>1</td>\n",
       "      <td>0</td>\n",
       "      <td>0</td>\n",
       "    </tr>\n",
       "  </tbody>\n",
       "</table>\n",
       "<p>5 rows × 24 columns</p>\n",
       "</div>"
      ],
      "text/plain": [
       "   Gender  Customer Type  Age  Type of Travel  Flight Distance  \\\n",
       "0       0              1   52               1              160   \n",
       "1       0              1   36               1             2863   \n",
       "2       1              1   20               1              192   \n",
       "3       1              1   44               1             3377   \n",
       "4       0              1   49               1             1182   \n",
       "\n",
       "   Inflight wifi service  Departure/Arrival time convenient  \\\n",
       "0                      5                                  4   \n",
       "1                      1                                  1   \n",
       "2                      2                                  0   \n",
       "3                      0                                  0   \n",
       "4                      2                                  3   \n",
       "\n",
       "   Ease of Online booking  Gate location  Food and drink  ...  \\\n",
       "0                       3              4               3  ...   \n",
       "1                       3              1               5  ...   \n",
       "2                       2              4               2  ...   \n",
       "3                       0              2               3  ...   \n",
       "4                       4              3               4  ...   \n",
       "\n",
       "   Leg room service  Baggage handling  Checkin service  Inflight service  \\\n",
       "0                 5                 5                2                 5   \n",
       "1                 4                 4                3                 4   \n",
       "2                 1                 3                2                 2   \n",
       "3                 1                 1                3                 1   \n",
       "4                 2                 2                4                 2   \n",
       "\n",
       "   Cleanliness  satisfaction  Delay in Minutes  Class_0  Class_1  Class_2  \n",
       "0            5             1              94.0        1        0        0  \n",
       "1            5             1               0.0        0        0        1  \n",
       "2            2             0               0.0        1        0        0  \n",
       "3            4             1               6.0        0        0        1  \n",
       "4            4             1              20.0        1        0        0  \n",
       "\n",
       "[5 rows x 24 columns]"
      ]
     },
     "execution_count": 118,
     "metadata": {},
     "output_type": "execute_result"
    }
   ],
   "source": [
    "df.head()"
   ]
  },
  {
   "cell_type": "code",
   "execution_count": 119,
   "id": "88490182",
   "metadata": {},
   "outputs": [],
   "source": [
    "from sklearn.model_selection import train_test_split\n",
    "y = df[\"satisfaction\"]\n",
    "features = list(df.keys())\n",
    "features.remove(\"satisfaction\")\n",
    "X = df[features]\n",
    "\n",
    "X_train, X_test, y_train, y_test = train_test_split(X, y, test_size=0.2, random_state=5)\n",
    "\n",
    "from sklearn.preprocessing import StandardScaler\n",
    "\n",
    "numeric_features = ['Age','Flight Distance',\n",
    "                    'Inflight wifi service',\n",
    "                    'Departure/Arrival time convenient',\n",
    "                    'Ease of Online booking',\n",
    "                    'Gate location', \n",
    "                    'Food and drink', \n",
    "                    'Online boarding',\n",
    "                    'Seat comfort',\n",
    "                    'Inflight entertainment',\n",
    "                    'On-board service',\n",
    "                    'Leg room service',\n",
    "                    'Baggage handling',\n",
    "                    'Checkin service',\n",
    "                    'Inflight service',\n",
    "                    'Cleanliness',\n",
    "                    'Delay in Minutes']\n",
    "binary_features = features;\n",
    "for i in numeric_features:\n",
    "    binary_features.remove(i)\n",
    "\n",
    "scaler = StandardScaler()  # воспользуемся стандартным трансформером\n",
    "\n",
    "# масштабируем обучающую выборку\n",
    "X_train_scaled = scaler.fit_transform(X_train[numeric_features])\n",
    "\n",
    "# масштабируем тестовую выборку\n",
    "X_test_scaled = scaler.transform(X_test[numeric_features])\n",
    "\n",
    "X_train = np.c_[X_train_scaled, np.array(X_train[binary_features])]\n",
    "X_test = np.c_[X_test_scaled, np.array(X_test[binary_features])]"
   ]
  },
  {
   "cell_type": "markdown",
   "id": "fdb3ab1f",
   "metadata": {},
   "source": [
    "### Реализация Bagging: "
   ]
  },
  {
   "cell_type": "code",
   "execution_count": 234,
   "id": "8c84c2aa",
   "metadata": {},
   "outputs": [],
   "source": [
    "from sklearn.tree import DecisionTreeClassifier\n",
    "from sklearn.utils import resample\n",
    "import numpy as np\n",
    "from sklearn.metrics import accuracy_score\n",
    "\n",
    "class MyBagger():\n",
    "    def __init__(self, estimator = DecisionTreeClassifier(), n_estimators: int = 10, max_samples: float = 1.0, max_features: float = 1.0, n_jobs=-1):\n",
    "        self.estimator = estimator\n",
    "        self.n_estimators = n_estimators\n",
    "        self.max_samples = max_samples\n",
    "        self.max_features = max_features\n",
    "        self.n_jobs = n_jobs\n",
    "        \n",
    "        self.estimators = []\n",
    "        self.estimators_features = []\n",
    "    def fit(self, X, y):\n",
    "        def get_random_cols(X, y):\n",
    "            features_num = min(int(np.round(self.max_features * X.shape[1])), X.shape[1])\n",
    "            return np.random.choice(X.shape[1], features_num, replace=False) \n",
    "        def get_random_rows(X, y, features):\n",
    "            samples_num = min(int(np.round(self.max_samples * X.shape[0])), X.shape[0])\n",
    "            return resample(X[:,features], y, replace=True, n_samples=samples_num, random_state=5)                       \n",
    "            \n",
    "        for i in range(self.n_estimators):\n",
    "                features = get_random_cols(X, y)\n",
    "                X_, y_ = get_random_rows(X, y, features)\n",
    "                self.estimators.append(self.estimator.fit(X_, y_))\n",
    "                self.estimators_features.append(features)\n",
    "    \n",
    "    def predict(self, X):\n",
    "        prediction = np.zeros(X.shape[0])\n",
    "        for estimator, features in zip(self.estimators, self.estimators_features):\n",
    "            prediction += estimator.predict(X[:,features])\n",
    "        return np.array(np.round(prediction/len(self.estimators)), dtype=\"int64\")\n",
    "\n",
    "        "
   ]
  },
  {
   "cell_type": "markdown",
   "id": "c43d0682",
   "metadata": {},
   "source": [
    "### Реализация AdaBoost:"
   ]
  },
  {
   "cell_type": "code",
   "execution_count": 208,
   "id": "9bdf6a31",
   "metadata": {},
   "outputs": [],
   "source": [
    "class MyAdaBooster():\n",
    "    def __init__(self, estimator = DecisionTreeClassifier(), n_estimators: int = 10):\n",
    "        self.estimator = estimator\n",
    "        self.n_estimators = n_estimators\n",
    "        \n",
    "        self.estimators_weights = []\n",
    "        self.estimators = []\n",
    "        \n",
    "    def fit(self, X, y):\n",
    "        initial_weight = 1/X.shape[0]\n",
    "        data_weights = np.array([initial_weight for i in range(X.shape[0])])\n",
    "        \n",
    "        def get_error(ys, predictions, data_weights):\n",
    "            res = 0\n",
    "            for y, p, w in zip(ys, predictions, data_weights):\n",
    "                res += w if y != p else 0\n",
    "            return res\n",
    "\n",
    "            \n",
    "        for i in range(self.n_estimators):\n",
    "            estim = self.estimator.fit(X, y, sample_weight=data_weights)\n",
    "            prediction = estim.predict(X)\n",
    "            error = get_error(y, prediction, data_weights)\n",
    "            \n",
    "            self.estimators_weights.append( 1 if error <= 0 else np.log((1 - error)/error))\n",
    "            \n",
    "            data_weights *= np.exp(self.estimators_weights[-1] * (y != prediction) * ((data_weights > 0) |(self.estimators_weights[-1] < 0)))\n",
    "            data_weights /= np.sum(data_weights)\n",
    "            \n",
    "            self.estimators.append(estim)\n",
    "            \n",
    "    def predict(self, X):\n",
    "        prediction = 0\n",
    "        for estimator, weight in zip(self.estimators, self.estimators_weights):\n",
    "            prediction += weight*estimator.predict(X)\n",
    "        return np.sign(prediction)\n",
    "            \n",
    "            \n",
    "            "
   ]
  },
  {
   "cell_type": "markdown",
   "id": "2166f65a",
   "metadata": {},
   "source": [
    "### Обучение моделей:"
   ]
  },
  {
   "cell_type": "code",
   "execution_count": null,
   "id": "a28eb8ab",
   "metadata": {},
   "outputs": [],
   "source": [
    "from sklearn.tree import DecisionTreeClassifier\n",
    "from catboost import CatBoostClassifier\n",
    "from lightgbm import LGBMClassifier\n",
    "from xgboost import XGBClassifier\n",
    "from sklearn.ensemble import HistGradientBoostingClassifier, GradientBoostingClassifier, RandomForestClassifier, AdaBoostClassifier,  BaggingClassifier\n",
    "import optuna\n",
    "import time\n",
    "\n",
    "trials_num = 300\n",
    "models = [MyBagger(), MyAdaBooster(), BaggingClassifier(), AdaBoostClassifier(), RandomForestClassifier(), GradientBoostingClassifier(), HistGradientBoostingClassifier(), XGBClassifier(), LGBMClassifier(), CatBoostClassifier()]\n",
    "models_name = [\"MyBagger\",\"MyAdaBooster\",\"BaggingClassifier\",\"AdaBoostClassifier\",\"RandomForestClassifier\",\"GradientBoostingClassifier\", \"HistGradientBoostingClassifier\", \"XGBClassifier\", \"LGBMClassifier\",\"CatBoostClassifier\" ]\n",
    "params = [{\"n_estimators\":(1, 100), \"max_samples\": (0.10, 1.0), \"max_features\": (0.1, 1.0)},\n",
    "          {\"n_estimators\":(1,100)},\n",
    "          {\"n_estimators\":(1, 100), \"max_samples\": (0.1, 1.0), \"max_features\": (0.1, 1.0)},\n",
    "          {\"n_estimators\":(1,100)},\n",
    "          {\"n_estimators\":(1,100), \"max_depth\":(4,16), \"max_samples\":(0.10,1.00), \"max_features\":(0.10,1.00)},\n",
    "          {\"n_estimators\":(1,100), \"max_depth\":(4,16), \"max_features\":(0.10,1.00)},\n",
    "          {\"max_depth\":(4, 16), \"max_iter\":(30, 150)},\n",
    "          {\"n_estimators\": (1, 100), \"max_depth\":(4, 16)},\n",
    "          {\"n_estimators\":(1, 100), \"max_depth\":(4, 16)},\n",
    "          {\"n_estimators\": (1, 100), \"max_depth\":(4, 16)}\n",
    "         ]\n",
    "results = {\"Models\": models_name, \n",
    "           \"Accuracy\": [],\n",
    "           \"Time\": [], \n",
    "           \"Best Params\":[]\n",
    "          }\n",
    "optuna.logging.set_verbosity(optuna.logging.WARNING)\n",
    "\n",
    "for i in range(len(models)):\n",
    "    def objective(trial):\n",
    "        res_param = {}\n",
    "        keys = list(params[i].keys())\n",
    "        for key in keys:\n",
    "            tmp = None\n",
    "            if (key == \"max_samples\" or key == \"max_features\"):\n",
    "                tmp = trial.suggest_float(key,params[i][key][0], params[i][key][1])\n",
    "            else: \n",
    "                tmp = trial.suggest_int(key,params[i][key][0], params[i][key][1])\n",
    "            res_param[key] = tmp\n",
    "        \n",
    "        if (models_name[i] == \"CatBoostClassifier\"):\n",
    "            res_param[\"verbose\"] = False\n",
    "        learner = type(models[i])(**res_param)\n",
    "        learner.fit(X_train, y_train)\n",
    "        prediction = learner.predict(X_test)\n",
    "        return accuracy_score(y_test, prediction)\n",
    "    start_time = time.time()\n",
    "    optuna_study = optuna.create_study(direction=\"maximize\")\n",
    "    optuna_study.optimize(objective, n_trials=trials_num)\n",
    "    stop_time = time.time()\n",
    "    results[\"Time\"].append((stop_time - start_time)/trials_num)\n",
    "    results[\"Accuracy\"].append(optuna_study.best_value)\n",
    "    results[\"Best Params\"].append(optuna_study.best_params)\n",
    "    \n",
    "    \n",
    "    \n",
    "    \n",
    "            \n",
    "        \n"
   ]
  },
  {
   "cell_type": "markdown",
   "id": "1b8cef51",
   "metadata": {},
   "source": [
    "### Результаты обучения:"
   ]
  },
  {
   "cell_type": "code",
   "execution_count": null,
   "id": "f64b041b",
   "metadata": {},
   "outputs": [],
   "source": [
    "pd.DataFrame(data = results).sort_values(by=\"Accuracy\", ascending=False).drop(\"Best Params\", axis=1)"
   ]
  },
  {
   "cell_type": "code",
   "execution_count": null,
   "id": "c5d8b23e",
   "metadata": {},
   "outputs": [],
   "source": [
    "from sklearn.metrics import confusion_matrix\n",
    "\n",
    "plt.figure(figsize=(20, 10))\n",
    "\n",
    "for i in range(len(models)):\n",
    "    if (models_name[i] == \"CatBoostClassifier\"):\n",
    "        results[\"Best Params\"][i][\"verbose\"] = False\n",
    "    tmp = type(models[i])(**results[\"Best Params\"][i])\n",
    "    tmp.fit(X_train, y_train)\n",
    "    prediction = tmp.predict(X_test)\n",
    "    plt.subplot(2, 5, i+1)\n",
    "    plt.title(models_name[i])\n",
    "    sns.heatmap(confusion_matrix(y_test, prediction), annot=True,cbar=True, fmt='d', annot_kws={\"size\": 18})\n",
    "\n",
    "plt.show()"
   ]
  },
  {
   "cell_type": "code",
   "execution_count": null,
   "id": "cc7b629d",
   "metadata": {},
   "outputs": [],
   "source": []
  }
 ],
 "metadata": {
  "kernelspec": {
   "display_name": "Python 3 (ipykernel)",
   "language": "python",
   "name": "python3"
  },
  "language_info": {
   "codemirror_mode": {
    "name": "ipython",
    "version": 3
   },
   "file_extension": ".py",
   "mimetype": "text/x-python",
   "name": "python",
   "nbconvert_exporter": "python",
   "pygments_lexer": "ipython3",
   "version": "3.10.8"
  }
 },
 "nbformat": 4,
 "nbformat_minor": 5
}
