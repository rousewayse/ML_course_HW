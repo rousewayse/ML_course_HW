{
 "cells": [
  {
   "cell_type": "markdown",
   "id": "1b81b49c",
   "metadata": {},
   "source": [
    "* Выполняемое задание -- Задание 2 \"Сравнение методов классификации\"\n",
    "* Студент: Шеверев Сергей Вячеславови, 22М-05ММ\n",
    "* Все пункты обязательной части задания\n",
    "* Была реализована модель логистической регрессии"
   ]
  },
  {
   "cell_type": "code",
   "execution_count": 1,
   "id": "118e581d",
   "metadata": {},
   "outputs": [],
   "source": [
    "import numpy as np \n",
    "import pandas as pd\n",
    "import matplotlib.pyplot as plt\n",
    "%matplotlib inline\n",
    "import seaborn as sns\n",
    "\n",
    "# устанавливаем точность чисел с плавающей точкой\n",
    "%precision %.4f\n",
    "\n",
    "import warnings\n",
    "warnings.filterwarnings('ignore')  # отключаем предупреждения"
   ]
  },
  {
   "cell_type": "markdown",
   "id": "a5e403f8",
   "metadata": {},
   "source": [
    "Считаем данные:"
   ]
  },
  {
   "cell_type": "code",
   "execution_count": 2,
   "id": "53217b9f",
   "metadata": {},
   "outputs": [
    {
     "data": {
      "text/html": [
       "<div>\n",
       "<style scoped>\n",
       "    .dataframe tbody tr th:only-of-type {\n",
       "        vertical-align: middle;\n",
       "    }\n",
       "\n",
       "    .dataframe tbody tr th {\n",
       "        vertical-align: top;\n",
       "    }\n",
       "\n",
       "    .dataframe thead th {\n",
       "        text-align: right;\n",
       "    }\n",
       "</style>\n",
       "<table border=\"1\" class=\"dataframe\">\n",
       "  <thead>\n",
       "    <tr style=\"text-align: right;\">\n",
       "      <th></th>\n",
       "      <th>age</th>\n",
       "      <th>sex</th>\n",
       "      <th>cp</th>\n",
       "      <th>trestbps</th>\n",
       "      <th>chol</th>\n",
       "      <th>fbs</th>\n",
       "      <th>restecg</th>\n",
       "      <th>thalach</th>\n",
       "      <th>exang</th>\n",
       "      <th>oldpeak</th>\n",
       "      <th>slope</th>\n",
       "      <th>ca</th>\n",
       "      <th>thal</th>\n",
       "      <th>target</th>\n",
       "    </tr>\n",
       "  </thead>\n",
       "  <tbody>\n",
       "    <tr>\n",
       "      <th>0</th>\n",
       "      <td>52</td>\n",
       "      <td>1</td>\n",
       "      <td>0</td>\n",
       "      <td>125</td>\n",
       "      <td>212</td>\n",
       "      <td>0</td>\n",
       "      <td>1</td>\n",
       "      <td>168</td>\n",
       "      <td>0</td>\n",
       "      <td>1.0</td>\n",
       "      <td>2</td>\n",
       "      <td>2</td>\n",
       "      <td>3</td>\n",
       "      <td>0</td>\n",
       "    </tr>\n",
       "    <tr>\n",
       "      <th>1</th>\n",
       "      <td>53</td>\n",
       "      <td>1</td>\n",
       "      <td>0</td>\n",
       "      <td>140</td>\n",
       "      <td>203</td>\n",
       "      <td>1</td>\n",
       "      <td>0</td>\n",
       "      <td>155</td>\n",
       "      <td>1</td>\n",
       "      <td>3.1</td>\n",
       "      <td>0</td>\n",
       "      <td>0</td>\n",
       "      <td>3</td>\n",
       "      <td>0</td>\n",
       "    </tr>\n",
       "    <tr>\n",
       "      <th>2</th>\n",
       "      <td>70</td>\n",
       "      <td>1</td>\n",
       "      <td>0</td>\n",
       "      <td>145</td>\n",
       "      <td>174</td>\n",
       "      <td>0</td>\n",
       "      <td>1</td>\n",
       "      <td>125</td>\n",
       "      <td>1</td>\n",
       "      <td>2.6</td>\n",
       "      <td>0</td>\n",
       "      <td>0</td>\n",
       "      <td>3</td>\n",
       "      <td>0</td>\n",
       "    </tr>\n",
       "    <tr>\n",
       "      <th>3</th>\n",
       "      <td>61</td>\n",
       "      <td>1</td>\n",
       "      <td>0</td>\n",
       "      <td>148</td>\n",
       "      <td>203</td>\n",
       "      <td>0</td>\n",
       "      <td>1</td>\n",
       "      <td>161</td>\n",
       "      <td>0</td>\n",
       "      <td>0.0</td>\n",
       "      <td>2</td>\n",
       "      <td>1</td>\n",
       "      <td>3</td>\n",
       "      <td>0</td>\n",
       "    </tr>\n",
       "    <tr>\n",
       "      <th>4</th>\n",
       "      <td>62</td>\n",
       "      <td>0</td>\n",
       "      <td>0</td>\n",
       "      <td>138</td>\n",
       "      <td>294</td>\n",
       "      <td>1</td>\n",
       "      <td>1</td>\n",
       "      <td>106</td>\n",
       "      <td>0</td>\n",
       "      <td>1.9</td>\n",
       "      <td>1</td>\n",
       "      <td>3</td>\n",
       "      <td>2</td>\n",
       "      <td>0</td>\n",
       "    </tr>\n",
       "  </tbody>\n",
       "</table>\n",
       "</div>"
      ],
      "text/plain": [
       "   age  sex  cp  trestbps  chol  fbs  restecg  thalach  exang  oldpeak  slope  \\\n",
       "0   52    1   0       125   212    0        1      168      0      1.0      2   \n",
       "1   53    1   0       140   203    1        0      155      1      3.1      0   \n",
       "2   70    1   0       145   174    0        1      125      1      2.6      0   \n",
       "3   61    1   0       148   203    0        1      161      0      0.0      2   \n",
       "4   62    0   0       138   294    1        1      106      0      1.9      1   \n",
       "\n",
       "   ca  thal  target  \n",
       "0   2     3       0  \n",
       "1   0     3       0  \n",
       "2   0     3       0  \n",
       "3   1     3       0  \n",
       "4   3     2       0  "
      ]
     },
     "execution_count": 2,
     "metadata": {},
     "output_type": "execute_result"
    }
   ],
   "source": [
    "df = pd.read_csv('heart.csv')\n",
    "df.head()"
   ]
  },
  {
   "cell_type": "markdown",
   "id": "3725a32c",
   "metadata": {},
   "source": [
    "Посмотрим, нет ли пропущенных значений"
   ]
  },
  {
   "cell_type": "code",
   "execution_count": 3,
   "id": "a90958a1",
   "metadata": {},
   "outputs": [
    {
     "data": {
      "text/plain": [
       "age         0\n",
       "sex         0\n",
       "cp          0\n",
       "trestbps    0\n",
       "chol        0\n",
       "fbs         0\n",
       "restecg     0\n",
       "thalach     0\n",
       "exang       0\n",
       "oldpeak     0\n",
       "slope       0\n",
       "ca          0\n",
       "thal        0\n",
       "target      0\n",
       "dtype: int64"
      ]
     },
     "execution_count": 3,
     "metadata": {},
     "output_type": "execute_result"
    }
   ],
   "source": [
    "df.isnull().sum()"
   ]
  },
  {
   "cell_type": "markdown",
   "id": "2dbfafc6",
   "metadata": {},
   "source": [
    "В датасете нет пропущенных значений."
   ]
  },
  {
   "cell_type": "markdown",
   "id": "7ed607ce",
   "metadata": {},
   "source": [
    "Выполним One-hot encoding категориальных признаков"
   ]
  },
  {
   "cell_type": "code",
   "execution_count": 4,
   "id": "d4c1c0e7",
   "metadata": {},
   "outputs": [
    {
     "data": {
      "text/html": [
       "<div>\n",
       "<style scoped>\n",
       "    .dataframe tbody tr th:only-of-type {\n",
       "        vertical-align: middle;\n",
       "    }\n",
       "\n",
       "    .dataframe tbody tr th {\n",
       "        vertical-align: top;\n",
       "    }\n",
       "\n",
       "    .dataframe thead th {\n",
       "        text-align: right;\n",
       "    }\n",
       "</style>\n",
       "<table border=\"1\" class=\"dataframe\">\n",
       "  <thead>\n",
       "    <tr style=\"text-align: right;\">\n",
       "      <th></th>\n",
       "      <th>age</th>\n",
       "      <th>sex</th>\n",
       "      <th>trestbps</th>\n",
       "      <th>chol</th>\n",
       "      <th>fbs</th>\n",
       "      <th>restecg</th>\n",
       "      <th>thalach</th>\n",
       "      <th>exang</th>\n",
       "      <th>oldpeak</th>\n",
       "      <th>target</th>\n",
       "      <th>...</th>\n",
       "      <th>slope_2</th>\n",
       "      <th>ca_0</th>\n",
       "      <th>ca_1</th>\n",
       "      <th>ca_2</th>\n",
       "      <th>ca_3</th>\n",
       "      <th>ca_4</th>\n",
       "      <th>thal_0</th>\n",
       "      <th>thal_1</th>\n",
       "      <th>thal_2</th>\n",
       "      <th>thal_3</th>\n",
       "    </tr>\n",
       "  </thead>\n",
       "  <tbody>\n",
       "    <tr>\n",
       "      <th>0</th>\n",
       "      <td>52</td>\n",
       "      <td>1</td>\n",
       "      <td>125</td>\n",
       "      <td>212</td>\n",
       "      <td>0</td>\n",
       "      <td>1</td>\n",
       "      <td>168</td>\n",
       "      <td>0</td>\n",
       "      <td>1.0</td>\n",
       "      <td>0</td>\n",
       "      <td>...</td>\n",
       "      <td>1</td>\n",
       "      <td>0</td>\n",
       "      <td>0</td>\n",
       "      <td>1</td>\n",
       "      <td>0</td>\n",
       "      <td>0</td>\n",
       "      <td>0</td>\n",
       "      <td>0</td>\n",
       "      <td>0</td>\n",
       "      <td>1</td>\n",
       "    </tr>\n",
       "    <tr>\n",
       "      <th>1</th>\n",
       "      <td>53</td>\n",
       "      <td>1</td>\n",
       "      <td>140</td>\n",
       "      <td>203</td>\n",
       "      <td>1</td>\n",
       "      <td>0</td>\n",
       "      <td>155</td>\n",
       "      <td>1</td>\n",
       "      <td>3.1</td>\n",
       "      <td>0</td>\n",
       "      <td>...</td>\n",
       "      <td>0</td>\n",
       "      <td>1</td>\n",
       "      <td>0</td>\n",
       "      <td>0</td>\n",
       "      <td>0</td>\n",
       "      <td>0</td>\n",
       "      <td>0</td>\n",
       "      <td>0</td>\n",
       "      <td>0</td>\n",
       "      <td>1</td>\n",
       "    </tr>\n",
       "    <tr>\n",
       "      <th>2</th>\n",
       "      <td>70</td>\n",
       "      <td>1</td>\n",
       "      <td>145</td>\n",
       "      <td>174</td>\n",
       "      <td>0</td>\n",
       "      <td>1</td>\n",
       "      <td>125</td>\n",
       "      <td>1</td>\n",
       "      <td>2.6</td>\n",
       "      <td>0</td>\n",
       "      <td>...</td>\n",
       "      <td>0</td>\n",
       "      <td>1</td>\n",
       "      <td>0</td>\n",
       "      <td>0</td>\n",
       "      <td>0</td>\n",
       "      <td>0</td>\n",
       "      <td>0</td>\n",
       "      <td>0</td>\n",
       "      <td>0</td>\n",
       "      <td>1</td>\n",
       "    </tr>\n",
       "    <tr>\n",
       "      <th>3</th>\n",
       "      <td>61</td>\n",
       "      <td>1</td>\n",
       "      <td>148</td>\n",
       "      <td>203</td>\n",
       "      <td>0</td>\n",
       "      <td>1</td>\n",
       "      <td>161</td>\n",
       "      <td>0</td>\n",
       "      <td>0.0</td>\n",
       "      <td>0</td>\n",
       "      <td>...</td>\n",
       "      <td>1</td>\n",
       "      <td>0</td>\n",
       "      <td>1</td>\n",
       "      <td>0</td>\n",
       "      <td>0</td>\n",
       "      <td>0</td>\n",
       "      <td>0</td>\n",
       "      <td>0</td>\n",
       "      <td>0</td>\n",
       "      <td>1</td>\n",
       "    </tr>\n",
       "    <tr>\n",
       "      <th>4</th>\n",
       "      <td>62</td>\n",
       "      <td>0</td>\n",
       "      <td>138</td>\n",
       "      <td>294</td>\n",
       "      <td>1</td>\n",
       "      <td>1</td>\n",
       "      <td>106</td>\n",
       "      <td>0</td>\n",
       "      <td>1.9</td>\n",
       "      <td>0</td>\n",
       "      <td>...</td>\n",
       "      <td>0</td>\n",
       "      <td>0</td>\n",
       "      <td>0</td>\n",
       "      <td>0</td>\n",
       "      <td>1</td>\n",
       "      <td>0</td>\n",
       "      <td>0</td>\n",
       "      <td>0</td>\n",
       "      <td>1</td>\n",
       "      <td>0</td>\n",
       "    </tr>\n",
       "  </tbody>\n",
       "</table>\n",
       "<p>5 rows × 26 columns</p>\n",
       "</div>"
      ],
      "text/plain": [
       "   age  sex  trestbps  chol  fbs  restecg  thalach  exang  oldpeak  target  \\\n",
       "0   52    1       125   212    0        1      168      0      1.0       0   \n",
       "1   53    1       140   203    1        0      155      1      3.1       0   \n",
       "2   70    1       145   174    0        1      125      1      2.6       0   \n",
       "3   61    1       148   203    0        1      161      0      0.0       0   \n",
       "4   62    0       138   294    1        1      106      0      1.9       0   \n",
       "\n",
       "   ...  slope_2  ca_0  ca_1  ca_2  ca_3  ca_4  thal_0  thal_1  thal_2  thal_3  \n",
       "0  ...        1     0     0     1     0     0       0       0       0       1  \n",
       "1  ...        0     1     0     0     0     0       0       0       0       1  \n",
       "2  ...        0     1     0     0     0     0       0       0       0       1  \n",
       "3  ...        1     0     1     0     0     0       0       0       0       1  \n",
       "4  ...        0     0     0     0     1     0       0       0       1       0  \n",
       "\n",
       "[5 rows x 26 columns]"
      ]
     },
     "execution_count": 4,
     "metadata": {},
     "output_type": "execute_result"
    }
   ],
   "source": [
    "cat_features = ['cp', 'slope', 'ca', 'thal']\n",
    "df = pd.get_dummies(df, prefix=cat_features, columns=cat_features)\n",
    "#df.drop(cat_features, inplace=True)\n",
    "df.head()"
   ]
  },
  {
   "cell_type": "markdown",
   "id": "a62db52a",
   "metadata": {},
   "source": [
    "Разделим данные на тестовую и обучающую выборку, для воспроизводимости результатов зададим random_state, равным 5"
   ]
  },
  {
   "cell_type": "code",
   "execution_count": 6,
   "id": "16693bc0",
   "metadata": {},
   "outputs": [],
   "source": [
    "from sklearn.model_selection import train_test_split\n",
    "y = df[\"target\"]\n",
    "features = list(df.keys())\n",
    "features.remove(\"target\")\n",
    "X = df[features]\n",
    "\n",
    "X_train, X_test, y_train, y_test = train_test_split(X, y, test_size=0.2, random_state=5)"
   ]
  },
  {
   "cell_type": "markdown",
   "id": "65a92833",
   "metadata": {},
   "source": [
    "Выполним масштабирование данных:"
   ]
  },
  {
   "cell_type": "code",
   "execution_count": 7,
   "id": "85b262c4",
   "metadata": {},
   "outputs": [],
   "source": [
    "from sklearn.preprocessing import StandardScaler\n",
    "\n",
    "numeric_features = [\"trestbps\", \"chol\", \"thalach\", \"oldpeak\", \"age\"]\n",
    "binary_features = features;\n",
    "for i in numeric_features:\n",
    "    binary_features.remove(i)\n",
    "\n",
    "scaler = StandardScaler()  # воспользуемся стандартным трансформером\n",
    "\n",
    "# масштабируем обучающую выборку\n",
    "X_train_scaled = scaler.fit_transform(X_train[numeric_features])\n",
    "\n",
    "# масштабируем тестовую выборку\n",
    "X_test_scaled = scaler.transform(X_test[numeric_features])\n",
    "\n",
    "X_train = np.c_[X_train_scaled, np.array(X_train[binary_features])]\n",
    "X_test = np.c_[X_test_scaled, np.array(X_test[binary_features])]"
   ]
  },
  {
   "cell_type": "markdown",
   "id": "3a658c97",
   "metadata": {},
   "source": [
    "Реализуем метод логистической регрессии:"
   ]
  },
  {
   "cell_type": "code",
   "execution_count": 10,
   "id": "e5f30d96",
   "metadata": {},
   "outputs": [],
   "source": [
    "class MyLogReg():\n",
    "    def __init__(self, w=None, alph=1, conf=0.5):\n",
    "        self.w = w\n",
    "        self.alph = alph\n",
    "        self.conf = conf\n",
    "    def sigma(self, x):\n",
    "        return 1/(1 + math.exp(-x))\n",
    "\n",
    "    def grad_L2(self):\n",
    "        return np.array([2*x for x in self.w[:-1]] + [0.0])\n",
    "\n",
    "    def grad_LogLoss(self, y, x):\n",
    "        diff = np.array([self.sigma(i) for i in  x.dot(self.w)]) - y\n",
    "        return 1/len(x) * x.T.dot(diff)\n",
    "\n",
    "    def grad_LogLoss_L2(self, y, x):\n",
    "        return self.grad_LogLoss(y, x) + self.alph*self.grad_L2()\n",
    "\n",
    "    def fit(self, x, y, eps = 0.1**3):\n",
    "        x_bias = np.c_[x, np.ones(len(x))]\n",
    "        if (self.w is None):\n",
    "            self.w = np.ones(x_bias.shape[1])\n",
    "        w_pred = np.zeros(x_bias.shape[1])\n",
    "        i = 1\n",
    "        while (math.sqrt((self.w - w_pred).T.dot(self.w - w_pred)) > eps):\n",
    "            w_pred = self.w\n",
    "            grad =  self.grad_LogLoss_L2(y, x_bias)\n",
    "            self.w = self.w - 1/(i)*grad\n",
    "            i+=1\n",
    "    def predict(self, x):\n",
    "        x_bias = np.c_[x, np.ones(len(x))]\n",
    "        return np.array( [ 1 if k >= self.conf else 0 for k in [self.sigma(i) for i in x_bias.dot(self.w)]])\n",
    "\n",
    "class MyGridSearcher():\n",
    "    def __init__(self, model, x, y,  alphs, confs, scorrer, cv = 5):\n",
    "        self.alphs = alphs\n",
    "        self.confs = confs\n",
    "        self.scorrer = scorrer\n",
    "        self.best_params = None\n",
    "        self.cv = cv\n",
    "        self.model = model\n",
    "        self.x = x\n",
    "        self.y = y\n",
    "    def get_folds(self):\n",
    "        res = {\"data\": [],\n",
    "               \"target\": []}\n",
    "        count = 0\n",
    "        foldlen = int(len(self.x)/self.cv)\n",
    "        for i in range(1, self.cv+1): \n",
    "            kcount = foldlen*i\n",
    "            res[\"data\"].append(self.x[count:kcount])\n",
    "            res[\"target\"].append(self.y[count:kcount])\n",
    "            count = kcount        \n",
    "        return res       \n",
    "    def cross_validate(self):\n",
    "        folds = self.get_folds()\n",
    "        res = []\n",
    "        scores = []\n",
    "        for i in range(len(folds)):\n",
    "            self.model.w = None; \n",
    "            for k in range(len(folds)):\n",
    "                if (k == i):\n",
    "                    continue;\n",
    "                self.model.fit(folds['data'][k], folds['target'][k])\n",
    "            \n",
    "            prediction = self.model.predict(folds['data'][i])\n",
    "            scores.append(self.scorrer(prediction, folds['target'][i]))\n",
    "        self.model.w = None;\n",
    "        return scores\n",
    "    \n",
    "    def search(self, refit = True):\n",
    "        best_score = 0;\n",
    "        best_alph = 0;\n",
    "        best_conf = 0;\n",
    "        for alph in self.alphs:\n",
    "            self.model.alph = alph\n",
    "            for conf in self.confs:\n",
    "                self.model.conf = conf\n",
    "                scores = self.cross_validate()\n",
    "                score = sum(scores)/len(scores)\n",
    "                if (score > best_score):\n",
    "                    best_score = score;\n",
    "                    best_alph = alph\n",
    "                    best_conf = conf\n",
    "        model.alph = best_alph\n",
    "        model.conf = best_conf\n",
    "        if (refit):\n",
    "            model.fit(self.x, self.y)\n",
    "        return best_alph, best_conf\n",
    "        "
   ]
  },
  {
   "cell_type": "markdown",
   "id": "07cfa98d",
   "metadata": {},
   "source": [
    "Обучим библиотечные модели:\n",
    "1. Logistic regression \n",
    "2. SVM\n",
    "3. Knn\n",
    "4. Naive bayes\n",
    "5. Decision tree\n"
   ]
  },
  {
   "cell_type": "markdown",
   "id": "19a79316",
   "metadata": {},
   "source": [
    "Также обучим реализованную модель логистической регрессии."
   ]
  },
  {
   "cell_type": "code",
   "execution_count": 24,
   "id": "e3dbe85d",
   "metadata": {},
   "outputs": [
    {
     "name": "stdout",
     "output_type": "stream",
     "text": [
      "                    Model  Accuracy on test\n",
      "5  My logistic regression          0.663415\n",
      "3             naive bayes          0.839024\n",
      "0     Logistic regression          0.858537\n",
      "1                     svm          0.863415\n",
      "2                     knn          0.921951\n",
      "4           decision tree          1.000000\n"
     ]
    },
    {
     "data": {
      "image/png": "[encoded data removed]",
      "text/plain": [
       "<Figure size 720x360 with 1 Axes>"
      ]
     },
     "metadata": {
      "needs_background": "light"
     },
     "output_type": "display_data"
    }
   ],
   "source": [
    "from sklearn.linear_model import LogisticRegression\n",
    "from sklearn.metrics import accuracy_score\n",
    "from sklearn.model_selection import GridSearchCV\n",
    "from sklearn.neighbors import KNeighborsClassifier\n",
    "from sklearn.svm import SVC\n",
    "from sklearn.naive_bayes import GaussianNB\n",
    "from sklearn.tree import DecisionTreeClassifier\n",
    "from sklearn.metrics import confusion_matrix\n",
    "models = [LogisticRegression(), KNeighborsClassifier(), SVC(), GaussianNB(), DecisionTreeClassifier(), MyLogReg()]\n",
    "models_name = ['Logistic regression', 'svm', 'knn', 'naive bayes', 'decision tree', 'My logistic regression']\n",
    "accuracies_ = []\n",
    "for i in range(len(models)):\n",
    "    models[i].fit(X_train, y_train)\n",
    "    accuracies_.append(accuracy_score(y_test, models[i].predict(X_test)))\n",
    "data = {\n",
    "    'Model': models_name,\n",
    "    'Accuracy on test': accuracies_, \n",
    "    #'Best Params': best_models_params,\n",
    "}\n",
    "frame = pd.DataFrame(data = data)\n",
    "print(frame.sort_values(by=\"Accuracy on test\"))\n",
    "sns.barplot(x=models_name, y=accuracies)\n",
    "fig = plt.gcf()\n",
    "fig.set_size_inches(10, 5)\n",
    "plt.show()"
   ]
  },
  {
   "cell_type": "markdown",
   "id": "04248562",
   "metadata": {},
   "source": [
    "Выполним подбор гиперпараметров моделей и кросс-валидацию на обучающей выборке:"
   ]
  },
  {
   "cell_type": "code",
   "execution_count": 25,
   "id": "b423ab0a",
   "metadata": {},
   "outputs": [
    {
     "name": "stdout",
     "output_type": "stream",
     "text": [
      "Best model's parameters:\n",
      "Logistic regression: {'C': 2.586344827586207}\n",
      "svm                : {'n_neighbors': 7, 'p': 1, 'weights': 'distance'}\n",
      "knn                : {'C': 2.7931724137931035, 'degree': 5, 'gamma': 'scale', 'kernel': 'poly'}\n",
      "naive bayes        : {'var_smoothing': 0.04328761281083057}\n",
      "decision tree      : {'class_weight': None, 'criterion': 'entropy', 'splitter': 'random'}\n",
      "My Logistic regression: {'alph': 0.20782758620689656, 'conf': 0.5180689655172414}\n"
     ]
    }
   ],
   "source": [
    "\n",
    "models = [LogisticRegression(), KNeighborsClassifier(), SVC(), GaussianNB(), DecisionTreeClassifier()]\n",
    "models_name = ['Logistic regression', 'svm', 'knn', 'naive bayes', 'decision tree']\n",
    "max_name_len = max([len(i) for i in models_name])\n",
    "models_params = [{'C': np.linspace(0.1**3, 3, math.floor(3/0.1))},\n",
    "                 {'n_neighbors': range (3, 8), 'weights': ['uniform', 'distance'], 'p':[1, 2]},\n",
    "                 {'C': np.linspace(0.1**3, 3, math.floor(3/0.1)), 'kernel':['linear', 'poly', 'rbf','sigmoid'], \"degree\":range(1, 6), 'gamma':['scale', 'auto']},\n",
    "                 {'var_smoothing': np.logspace(0,-9, num=100)},\n",
    "                 {\"criterion\": ['gini', 'entropy', 'log_loss'], \"splitter\": ['best', 'random'], 'class_weight':[None, 'balanced']}\n",
    "                ]\n",
    "best_models_params = []\n",
    "accuracies = []\n",
    "confusion_matrices = []\n",
    "print(\"Best model's parameters:\")\n",
    "for i in range(len(models)):\n",
    "    searcher = GridSearchCV(models[i], param_grid = models_params[i], scoring=\"accuracy\", refit=\"accuracy\")\n",
    "    searcher.fit(X_train, y_train)\n",
    "    prediction = searcher.predict(X_test)\n",
    "    accuracies.append(accuracy_score(y_test, prediction))\n",
    "    confusion_matrices.append(confusion_matrix(y_test, prediction))\n",
    "    best_models_params.append(searcher.best_params_)\n",
    "    print(models_name[i].ljust(max_name_len) + \": \" + str(best_models_params[-1]))\n",
    "\n",
    "model = MyLogReg()\n",
    "searcher = MyGridSearcher(model, X_train, y_train, np.linspace(0.1**3, 3, math.floor(3/0.1)), np.linspace(0.1**3, 3, math.floor(3/0.1)), accuracy_score)\n",
    "my_best_params = searcher.search()\n",
    "best_models_params.append({'alph':my_best_params[0], 'conf':my_best_params[1]})\n",
    "my_pred = model.predict(X_test)\n",
    "accuracies.append(accuracy_score(my_pred, y_test))\n",
    "confusion_matrices.append(confusion_matrix(y_test, my_pred))\n",
    "models_name.append(\"My Logistic regression\")\n",
    "print(models_name[-1].ljust(max_name_len) + \": \" + str(best_models_params[-1]))"
   ]
  },
  {
   "cell_type": "markdown",
   "id": "61db3228",
   "metadata": {},
   "source": [
    "Посмотрим на точность моделей на тестовой выборке после подбора гиперпараметров и кросс-валидации:"
   ]
  },
  {
   "cell_type": "code",
   "execution_count": 26,
   "id": "0e4af2d0",
   "metadata": {},
   "outputs": [
    {
     "name": "stdout",
     "output_type": "stream",
     "text": [
      "                    Model  Accuracy on test  Accuracy delta\n",
      "5  My Logistic regression          0.814634        0.151220\n",
      "3             naive bayes          0.853659        0.014634\n",
      "0     Logistic regression          0.878049        0.019512\n",
      "1                     svm          1.000000        0.136585\n",
      "2                     knn          1.000000        0.078049\n",
      "4           decision tree          1.000000        0.000000\n"
     ]
    },
    {
     "data": {
      "image/png": "[encoded data removed]",
      "text/plain": [
       "<Figure size 720x360 with 1 Axes>"
      ]
     },
     "metadata": {
      "needs_background": "light"
     },
     "output_type": "display_data"
    }
   ],
   "source": [
    "data = {\n",
    "    'Model': models_name,\n",
    "    'Accuracy on test': accuracies, \n",
    "    #'Best Params': best_models_params,\n",
    "    'Accuracy delta': [math.fabs(i[0]-i[1]) for i in list(zip(accuracies, accuracies_))]\n",
    "}\n",
    "frame = pd.DataFrame(data = data)\n",
    "print(frame.sort_values(by=\"Accuracy on test\"))\n",
    "sns.barplot(x=models_name, y=accuracies)\n",
    "fig = plt.gcf()\n",
    "fig.set_size_inches(10, 5)\n",
    "plt.show()\n"
   ]
  },
  {
   "cell_type": "markdown",
   "id": "ae21a18e",
   "metadata": {},
   "source": [
    "Точность моделей заметно повысилась. Некоторые модели вообще не ошибаются на тестовой выборке."
   ]
  },
  {
   "cell_type": "markdown",
   "id": "375a8d44",
   "metadata": {},
   "source": [
    "Построим матрицы ошибок:"
   ]
  },
  {
   "cell_type": "code",
   "execution_count": 27,
   "id": "fbd3ec81",
   "metadata": {},
   "outputs": [
    {
     "data": {
      "image/png": "[encoded data removed]",
      "text/plain": [
       "<Figure size 432x288 with 2 Axes>"
      ]
     },
     "metadata": {
      "needs_background": "light"
     },
     "output_type": "display_data"
    },
    {
     "data": {
      "image/png": "[encoded data removed]",
      "text/plain": [
       "<Figure size 432x288 with 2 Axes>"
      ]
     },
     "metadata": {
      "needs_background": "light"
     },
     "output_type": "display_data"
    },
    {
     "data": {
      "image/png": "[encoded data removed]",
      "text/plain": [
       "<Figure size 432x288 with 2 Axes>"
      ]
     },
     "metadata": {
      "needs_background": "light"
     },
     "output_type": "display_data"
    },
    {
     "data": {
      "image/png": "[encoded data removed]",
      "text/plain": [
       "<Figure size 432x288 with 2 Axes>"
      ]
     },
     "metadata": {
      "needs_background": "light"
     },
     "output_type": "display_data"
    },
    {
     "data": {
      "image/png": "[encoded data removed]",
      "text/plain": [
       "<Figure size 432x288 with 2 Axes>"
      ]
     },
     "metadata": {
      "needs_background": "light"
     },
     "output_type": "display_data"
    },
    {
     "data": {
      "image/png": "[encoded data removed]",
      "text/plain": [
       "<Figure size 432x288 with 2 Axes>"
      ]
     },
     "metadata": {
      "needs_background": "light"
     },
     "output_type": "display_data"
    }
   ],
   "source": [
    "for i in range(len(confusion_matrices)):\n",
    "    sns.heatmap(confusion_matrices[i], annot=True,cbar=True, fmt='d', annot_kws={\"size\": 24})\n",
    "    plt.title(label=models_name[i])\n",
    "    plt.show()\n",
    "\n"
   ]
  },
  {
   "cell_type": "markdown",
   "id": "bfd8adf5",
   "metadata": {},
   "source": [
    "В ходе исследования точности работы моделей было выявлены следующие закономерности:\n",
    "1. decision tree показала себя лучше всех, она не ошибается при классификации. \n",
    "2. knn уступает decision tree, однако после подбора гиперпараметров и кросс-валидации она перестала ошибаться в своих предсказаниях\n",
    "3. svm существенно улучшила свои предсказания после подбора гиперпараметров и кросс-валидации и стала работать безошибочно на тестовой выборке\n",
    "4. naive bayes, logistic regression и реализованная модель логистической регрессии показывают схожую точность после подбора гиперапараметров. Однако, хочется заметить, что реализованная модель логистической регрессии получила наибольший прирост точности предсказаний."
   ]
  },
  {
   "cell_type": "code",
   "execution_count": null,
   "id": "8c8ceb93",
   "metadata": {},
   "outputs": [],
   "source": []
  }
 ],
 "metadata": {
  "kernelspec": {
   "display_name": "Python 3 (ipykernel)",
   "language": "python",
   "name": "python3"
  },
  "language_info": {
   "codemirror_mode": {
    "name": "ipython",
    "version": 3
   },
   "file_extension": ".py",
   "mimetype": "text/x-python",
   "name": "python",
   "nbconvert_exporter": "python",
   "pygments_lexer": "ipython3",
   "version": "3.10.2"
  }
 },
 "nbformat": 4,
 "nbformat_minor": 5
}
